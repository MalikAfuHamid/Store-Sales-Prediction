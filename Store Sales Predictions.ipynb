{
 "cells": [
  {
   "cell_type": "markdown",
   "id": "dd11dbdf",
   "metadata": {},
   "source": [
    "# 1. Import Libraries"
   ]
  },
  {
   "cell_type": "code",
   "execution_count": 1,
   "id": "ae54fe46",
   "metadata": {},
   "outputs": [],
   "source": [
    "import numpy as np\n",
    "import pandas as pd\n",
    "import matplotlib.pyplot as plt\n",
    "import seaborn as sns\n",
    "\n",
    "from sklearn.model_selection import train_test_split\n",
    "from sklearn.pipeline import Pipeline\n",
    "from sklearn.compose import ColumnTransformer\n",
    "\n",
    "from jcopml.pipeline import num_pipe, cat_pipe\n",
    "from jcopml.utils import save_model, load_model\n",
    "from jcopml.plot import plot_missing_value\n",
    "from jcopml.feature_importance import mean_score_decrease"
   ]
  },
  {
   "cell_type": "markdown",
   "id": "98964351",
   "metadata": {},
   "source": [
    "# 2. Import Dataset\n",
    "\n",
    "Source of the dataset: https://www.kaggle.com/competitions/store-sales-time-series-forecasting/data"
   ]
  },
  {
   "cell_type": "code",
   "execution_count": 2,
   "id": "c113f034",
   "metadata": {},
   "outputs": [],
   "source": [
    "df_train = pd.read_csv('train.csv')\n",
    "df_store = pd.read_csv('stores.csv')\n",
    "df_holiday = pd.read_csv('holidays_events.csv')\n",
    "df_oil = pd.read_csv('oil.csv')\n",
    "df_transaction = pd.read_csv('transactions.csv')"
   ]
  },
  {
   "cell_type": "markdown",
   "id": "4db4a80e",
   "metadata": {},
   "source": [
    "# 3. Exploratory Data Analysis"
   ]
  },
  {
   "cell_type": "markdown",
   "id": "9245546d",
   "metadata": {},
   "source": [
    "## 3.1 Train Dataset"
   ]
  },
  {
   "cell_type": "code",
   "execution_count": 3,
   "id": "ca675a61",
   "metadata": {},
   "outputs": [
    {
     "data": {
      "text/html": [
       "<div>\n",
       "<style scoped>\n",
       "    .dataframe tbody tr th:only-of-type {\n",
       "        vertical-align: middle;\n",
       "    }\n",
       "\n",
       "    .dataframe tbody tr th {\n",
       "        vertical-align: top;\n",
       "    }\n",
       "\n",
       "    .dataframe thead th {\n",
       "        text-align: right;\n",
       "    }\n",
       "</style>\n",
       "<table border=\"1\" class=\"dataframe\">\n",
       "  <thead>\n",
       "    <tr style=\"text-align: right;\">\n",
       "      <th></th>\n",
       "      <th>id</th>\n",
       "      <th>date</th>\n",
       "      <th>store_nbr</th>\n",
       "      <th>family</th>\n",
       "      <th>sales</th>\n",
       "      <th>onpromotion</th>\n",
       "    </tr>\n",
       "  </thead>\n",
       "  <tbody>\n",
       "    <tr>\n",
       "      <th>0</th>\n",
       "      <td>0</td>\n",
       "      <td>2013-01-01</td>\n",
       "      <td>1</td>\n",
       "      <td>AUTOMOTIVE</td>\n",
       "      <td>0.0</td>\n",
       "      <td>0</td>\n",
       "    </tr>\n",
       "    <tr>\n",
       "      <th>1</th>\n",
       "      <td>1</td>\n",
       "      <td>2013-01-01</td>\n",
       "      <td>1</td>\n",
       "      <td>BABY CARE</td>\n",
       "      <td>0.0</td>\n",
       "      <td>0</td>\n",
       "    </tr>\n",
       "    <tr>\n",
       "      <th>2</th>\n",
       "      <td>2</td>\n",
       "      <td>2013-01-01</td>\n",
       "      <td>1</td>\n",
       "      <td>BEAUTY</td>\n",
       "      <td>0.0</td>\n",
       "      <td>0</td>\n",
       "    </tr>\n",
       "    <tr>\n",
       "      <th>3</th>\n",
       "      <td>3</td>\n",
       "      <td>2013-01-01</td>\n",
       "      <td>1</td>\n",
       "      <td>BEVERAGES</td>\n",
       "      <td>0.0</td>\n",
       "      <td>0</td>\n",
       "    </tr>\n",
       "    <tr>\n",
       "      <th>4</th>\n",
       "      <td>4</td>\n",
       "      <td>2013-01-01</td>\n",
       "      <td>1</td>\n",
       "      <td>BOOKS</td>\n",
       "      <td>0.0</td>\n",
       "      <td>0</td>\n",
       "    </tr>\n",
       "  </tbody>\n",
       "</table>\n",
       "</div>"
      ],
      "text/plain": [
       "   id        date  store_nbr      family  sales  onpromotion\n",
       "0   0  2013-01-01          1  AUTOMOTIVE    0.0            0\n",
       "1   1  2013-01-01          1   BABY CARE    0.0            0\n",
       "2   2  2013-01-01          1      BEAUTY    0.0            0\n",
       "3   3  2013-01-01          1   BEVERAGES    0.0            0\n",
       "4   4  2013-01-01          1       BOOKS    0.0            0"
      ]
     },
     "execution_count": 3,
     "metadata": {},
     "output_type": "execute_result"
    }
   ],
   "source": [
    "df_train.head()"
   ]
  },
  {
   "cell_type": "code",
   "execution_count": 4,
   "id": "7d36a9e2",
   "metadata": {},
   "outputs": [
    {
     "data": {
      "text/html": [
       "<div>\n",
       "<style scoped>\n",
       "    .dataframe tbody tr th:only-of-type {\n",
       "        vertical-align: middle;\n",
       "    }\n",
       "\n",
       "    .dataframe tbody tr th {\n",
       "        vertical-align: top;\n",
       "    }\n",
       "\n",
       "    .dataframe thead th {\n",
       "        text-align: right;\n",
       "    }\n",
       "</style>\n",
       "<table border=\"1\" class=\"dataframe\">\n",
       "  <thead>\n",
       "    <tr style=\"text-align: right;\">\n",
       "      <th></th>\n",
       "      <th>id</th>\n",
       "      <th>date</th>\n",
       "      <th>store_nbr</th>\n",
       "      <th>family</th>\n",
       "      <th>sales</th>\n",
       "      <th>onpromotion</th>\n",
       "    </tr>\n",
       "  </thead>\n",
       "  <tbody>\n",
       "    <tr>\n",
       "      <th>3000883</th>\n",
       "      <td>3000883</td>\n",
       "      <td>2017-08-15</td>\n",
       "      <td>9</td>\n",
       "      <td>POULTRY</td>\n",
       "      <td>438.133</td>\n",
       "      <td>0</td>\n",
       "    </tr>\n",
       "    <tr>\n",
       "      <th>3000884</th>\n",
       "      <td>3000884</td>\n",
       "      <td>2017-08-15</td>\n",
       "      <td>9</td>\n",
       "      <td>PREPARED FOODS</td>\n",
       "      <td>154.553</td>\n",
       "      <td>1</td>\n",
       "    </tr>\n",
       "    <tr>\n",
       "      <th>3000885</th>\n",
       "      <td>3000885</td>\n",
       "      <td>2017-08-15</td>\n",
       "      <td>9</td>\n",
       "      <td>PRODUCE</td>\n",
       "      <td>2419.729</td>\n",
       "      <td>148</td>\n",
       "    </tr>\n",
       "    <tr>\n",
       "      <th>3000886</th>\n",
       "      <td>3000886</td>\n",
       "      <td>2017-08-15</td>\n",
       "      <td>9</td>\n",
       "      <td>SCHOOL AND OFFICE SUPPLIES</td>\n",
       "      <td>121.000</td>\n",
       "      <td>8</td>\n",
       "    </tr>\n",
       "    <tr>\n",
       "      <th>3000887</th>\n",
       "      <td>3000887</td>\n",
       "      <td>2017-08-15</td>\n",
       "      <td>9</td>\n",
       "      <td>SEAFOOD</td>\n",
       "      <td>16.000</td>\n",
       "      <td>0</td>\n",
       "    </tr>\n",
       "  </tbody>\n",
       "</table>\n",
       "</div>"
      ],
      "text/plain": [
       "              id        date  store_nbr                      family     sales  \\\n",
       "3000883  3000883  2017-08-15          9                     POULTRY   438.133   \n",
       "3000884  3000884  2017-08-15          9              PREPARED FOODS   154.553   \n",
       "3000885  3000885  2017-08-15          9                     PRODUCE  2419.729   \n",
       "3000886  3000886  2017-08-15          9  SCHOOL AND OFFICE SUPPLIES   121.000   \n",
       "3000887  3000887  2017-08-15          9                     SEAFOOD    16.000   \n",
       "\n",
       "         onpromotion  \n",
       "3000883            0  \n",
       "3000884            1  \n",
       "3000885          148  \n",
       "3000886            8  \n",
       "3000887            0  "
      ]
     },
     "execution_count": 4,
     "metadata": {},
     "output_type": "execute_result"
    }
   ],
   "source": [
    "df_train.tail()"
   ]
  },
  {
   "cell_type": "markdown",
   "id": "7059ba3b",
   "metadata": {},
   "source": [
    "### Data Information"
   ]
  },
  {
   "cell_type": "code",
   "execution_count": 5,
   "id": "2ce91071",
   "metadata": {},
   "outputs": [
    {
     "name": "stdout",
     "output_type": "stream",
     "text": [
      "<class 'pandas.core.frame.DataFrame'>\n",
      "RangeIndex: 3000888 entries, 0 to 3000887\n",
      "Data columns (total 6 columns):\n",
      " #   Column       Dtype  \n",
      "---  ------       -----  \n",
      " 0   id           int64  \n",
      " 1   date         object \n",
      " 2   store_nbr    int64  \n",
      " 3   family       object \n",
      " 4   sales        float64\n",
      " 5   onpromotion  int64  \n",
      "dtypes: float64(1), int64(3), object(2)\n",
      "memory usage: 137.4+ MB\n"
     ]
    }
   ],
   "source": [
    "df_train.info()"
   ]
  },
  {
   "cell_type": "code",
   "execution_count": 6,
   "id": "23d7e3d0",
   "metadata": {},
   "outputs": [],
   "source": [
    "df_train['date'] = pd.to_datetime(df_train['date'])"
   ]
  },
  {
   "cell_type": "markdown",
   "id": "9aedfca5",
   "metadata": {},
   "source": [
    "### Data Train Description"
   ]
  },
  {
   "cell_type": "code",
   "execution_count": 7,
   "id": "4e1151b7",
   "metadata": {},
   "outputs": [
    {
     "data": {
      "text/html": [
       "<div>\n",
       "<style scoped>\n",
       "    .dataframe tbody tr th:only-of-type {\n",
       "        vertical-align: middle;\n",
       "    }\n",
       "\n",
       "    .dataframe tbody tr th {\n",
       "        vertical-align: top;\n",
       "    }\n",
       "\n",
       "    .dataframe thead th {\n",
       "        text-align: right;\n",
       "    }\n",
       "</style>\n",
       "<table border=\"1\" class=\"dataframe\">\n",
       "  <thead>\n",
       "    <tr style=\"text-align: right;\">\n",
       "      <th></th>\n",
       "      <th>id</th>\n",
       "      <th>store_nbr</th>\n",
       "      <th>sales</th>\n",
       "      <th>onpromotion</th>\n",
       "    </tr>\n",
       "  </thead>\n",
       "  <tbody>\n",
       "    <tr>\n",
       "      <th>count</th>\n",
       "      <td>3.000888e+06</td>\n",
       "      <td>3.000888e+06</td>\n",
       "      <td>3.000888e+06</td>\n",
       "      <td>3.000888e+06</td>\n",
       "    </tr>\n",
       "    <tr>\n",
       "      <th>mean</th>\n",
       "      <td>1.500444e+06</td>\n",
       "      <td>2.750000e+01</td>\n",
       "      <td>3.577757e+02</td>\n",
       "      <td>2.602770e+00</td>\n",
       "    </tr>\n",
       "    <tr>\n",
       "      <th>std</th>\n",
       "      <td>8.662819e+05</td>\n",
       "      <td>1.558579e+01</td>\n",
       "      <td>1.101998e+03</td>\n",
       "      <td>1.221888e+01</td>\n",
       "    </tr>\n",
       "    <tr>\n",
       "      <th>min</th>\n",
       "      <td>0.000000e+00</td>\n",
       "      <td>1.000000e+00</td>\n",
       "      <td>0.000000e+00</td>\n",
       "      <td>0.000000e+00</td>\n",
       "    </tr>\n",
       "    <tr>\n",
       "      <th>25%</th>\n",
       "      <td>7.502218e+05</td>\n",
       "      <td>1.400000e+01</td>\n",
       "      <td>0.000000e+00</td>\n",
       "      <td>0.000000e+00</td>\n",
       "    </tr>\n",
       "    <tr>\n",
       "      <th>50%</th>\n",
       "      <td>1.500444e+06</td>\n",
       "      <td>2.750000e+01</td>\n",
       "      <td>1.100000e+01</td>\n",
       "      <td>0.000000e+00</td>\n",
       "    </tr>\n",
       "    <tr>\n",
       "      <th>75%</th>\n",
       "      <td>2.250665e+06</td>\n",
       "      <td>4.100000e+01</td>\n",
       "      <td>1.958473e+02</td>\n",
       "      <td>0.000000e+00</td>\n",
       "    </tr>\n",
       "    <tr>\n",
       "      <th>max</th>\n",
       "      <td>3.000887e+06</td>\n",
       "      <td>5.400000e+01</td>\n",
       "      <td>1.247170e+05</td>\n",
       "      <td>7.410000e+02</td>\n",
       "    </tr>\n",
       "  </tbody>\n",
       "</table>\n",
       "</div>"
      ],
      "text/plain": [
       "                 id     store_nbr         sales   onpromotion\n",
       "count  3.000888e+06  3.000888e+06  3.000888e+06  3.000888e+06\n",
       "mean   1.500444e+06  2.750000e+01  3.577757e+02  2.602770e+00\n",
       "std    8.662819e+05  1.558579e+01  1.101998e+03  1.221888e+01\n",
       "min    0.000000e+00  1.000000e+00  0.000000e+00  0.000000e+00\n",
       "25%    7.502218e+05  1.400000e+01  0.000000e+00  0.000000e+00\n",
       "50%    1.500444e+06  2.750000e+01  1.100000e+01  0.000000e+00\n",
       "75%    2.250665e+06  4.100000e+01  1.958473e+02  0.000000e+00\n",
       "max    3.000887e+06  5.400000e+01  1.247170e+05  7.410000e+02"
      ]
     },
     "execution_count": 7,
     "metadata": {},
     "output_type": "execute_result"
    }
   ],
   "source": [
    "df_train.describe()"
   ]
  },
  {
   "cell_type": "code",
   "execution_count": 8,
   "id": "5f3469ce",
   "metadata": {},
   "outputs": [
    {
     "data": {
      "text/html": [
       "<div>\n",
       "<style scoped>\n",
       "    .dataframe tbody tr th:only-of-type {\n",
       "        vertical-align: middle;\n",
       "    }\n",
       "\n",
       "    .dataframe tbody tr th {\n",
       "        vertical-align: top;\n",
       "    }\n",
       "\n",
       "    .dataframe thead th {\n",
       "        text-align: right;\n",
       "    }\n",
       "</style>\n",
       "<table border=\"1\" class=\"dataframe\">\n",
       "  <thead>\n",
       "    <tr style=\"text-align: right;\">\n",
       "      <th></th>\n",
       "      <th>family</th>\n",
       "    </tr>\n",
       "  </thead>\n",
       "  <tbody>\n",
       "    <tr>\n",
       "      <th>count</th>\n",
       "      <td>3000888</td>\n",
       "    </tr>\n",
       "    <tr>\n",
       "      <th>unique</th>\n",
       "      <td>33</td>\n",
       "    </tr>\n",
       "    <tr>\n",
       "      <th>top</th>\n",
       "      <td>AUTOMOTIVE</td>\n",
       "    </tr>\n",
       "    <tr>\n",
       "      <th>freq</th>\n",
       "      <td>90936</td>\n",
       "    </tr>\n",
       "  </tbody>\n",
       "</table>\n",
       "</div>"
      ],
      "text/plain": [
       "            family\n",
       "count      3000888\n",
       "unique          33\n",
       "top     AUTOMOTIVE\n",
       "freq         90936"
      ]
     },
     "execution_count": 8,
     "metadata": {},
     "output_type": "execute_result"
    }
   ],
   "source": [
    "df_train.describe(include='O')"
   ]
  },
  {
   "cell_type": "code",
   "execution_count": 9,
   "id": "cebe644a",
   "metadata": {},
   "outputs": [
    {
     "data": {
      "text/html": [
       "<div>\n",
       "<style scoped>\n",
       "    .dataframe tbody tr th:only-of-type {\n",
       "        vertical-align: middle;\n",
       "    }\n",
       "\n",
       "    .dataframe tbody tr th {\n",
       "        vertical-align: top;\n",
       "    }\n",
       "\n",
       "    .dataframe thead th {\n",
       "        text-align: right;\n",
       "    }\n",
       "</style>\n",
       "<table border=\"1\" class=\"dataframe\">\n",
       "  <thead>\n",
       "    <tr style=\"text-align: right;\">\n",
       "      <th></th>\n",
       "      <th>sales</th>\n",
       "    </tr>\n",
       "    <tr>\n",
       "      <th>family</th>\n",
       "      <th></th>\n",
       "    </tr>\n",
       "  </thead>\n",
       "  <tbody>\n",
       "    <tr>\n",
       "      <th>GROCERY I</th>\n",
       "      <td>3.434627e+08</td>\n",
       "    </tr>\n",
       "    <tr>\n",
       "      <th>BEVERAGES</th>\n",
       "      <td>2.169545e+08</td>\n",
       "    </tr>\n",
       "    <tr>\n",
       "      <th>PRODUCE</th>\n",
       "      <td>1.227047e+08</td>\n",
       "    </tr>\n",
       "    <tr>\n",
       "      <th>CLEANING</th>\n",
       "      <td>9.752129e+07</td>\n",
       "    </tr>\n",
       "    <tr>\n",
       "      <th>DAIRY</th>\n",
       "      <td>6.448771e+07</td>\n",
       "    </tr>\n",
       "  </tbody>\n",
       "</table>\n",
       "</div>"
      ],
      "text/plain": [
       "                  sales\n",
       "family                 \n",
       "GROCERY I  3.434627e+08\n",
       "BEVERAGES  2.169545e+08\n",
       "PRODUCE    1.227047e+08\n",
       "CLEANING   9.752129e+07\n",
       "DAIRY      6.448771e+07"
      ]
     },
     "execution_count": 9,
     "metadata": {},
     "output_type": "execute_result"
    }
   ],
   "source": [
    "family = df_train.groupby('family').sales.sum().sort_values(ascending=False).head().to_frame()\n",
    "family"
   ]
  },
  {
   "cell_type": "code",
   "execution_count": 10,
   "id": "4f12551c",
   "metadata": {},
   "outputs": [
    {
     "data": {
      "image/png": "[encoded data removed]",
      "text/plain": [
       "<Figure size 720x576 with 1 Axes>"
      ]
     },
     "metadata": {
      "needs_background": "light"
     },
     "output_type": "display_data"
    }
   ],
   "source": [
    "plt.figure(figsize=(10,8))\n",
    "sns.barplot(data= family, x=family.index, y='sales')\n",
    "plt.tight_layout()"
   ]
  },
  {
   "cell_type": "markdown",
   "id": "309ba195",
   "metadata": {},
   "source": [
    "`Berdasarkan hasil di atas, ternyata penjualan grosiran memiliki total penjualan paling tinggi dibandingkan tipe jualan lainnya. Untuk itu, di sini saya memilih nilai daata dengan tipe penjualan grosir (GROCERY I) untuk dilakukan analisa lebih lanjut dalam melakukan forecasting.`"
   ]
  },
  {
   "cell_type": "code",
   "execution_count": 11,
   "id": "71f36ee1",
   "metadata": {},
   "outputs": [],
   "source": [
    "df_train_grocery = df_train[df_train.family == 'GROCERY I']"
   ]
  },
  {
   "cell_type": "code",
   "execution_count": 12,
   "id": "f997927d",
   "metadata": {},
   "outputs": [
    {
     "data": {
      "text/html": [
       "<div>\n",
       "<style scoped>\n",
       "    .dataframe tbody tr th:only-of-type {\n",
       "        vertical-align: middle;\n",
       "    }\n",
       "\n",
       "    .dataframe tbody tr th {\n",
       "        vertical-align: top;\n",
       "    }\n",
       "\n",
       "    .dataframe thead th {\n",
       "        text-align: right;\n",
       "    }\n",
       "</style>\n",
       "<table border=\"1\" class=\"dataframe\">\n",
       "  <thead>\n",
       "    <tr style=\"text-align: right;\">\n",
       "      <th></th>\n",
       "      <th>id</th>\n",
       "      <th>date</th>\n",
       "      <th>store_nbr</th>\n",
       "      <th>family</th>\n",
       "      <th>sales</th>\n",
       "      <th>onpromotion</th>\n",
       "    </tr>\n",
       "  </thead>\n",
       "  <tbody>\n",
       "    <tr>\n",
       "      <th>12</th>\n",
       "      <td>12</td>\n",
       "      <td>2013-01-01</td>\n",
       "      <td>1</td>\n",
       "      <td>GROCERY I</td>\n",
       "      <td>0.0</td>\n",
       "      <td>0</td>\n",
       "    </tr>\n",
       "    <tr>\n",
       "      <th>45</th>\n",
       "      <td>45</td>\n",
       "      <td>2013-01-01</td>\n",
       "      <td>10</td>\n",
       "      <td>GROCERY I</td>\n",
       "      <td>0.0</td>\n",
       "      <td>0</td>\n",
       "    </tr>\n",
       "    <tr>\n",
       "      <th>78</th>\n",
       "      <td>78</td>\n",
       "      <td>2013-01-01</td>\n",
       "      <td>11</td>\n",
       "      <td>GROCERY I</td>\n",
       "      <td>0.0</td>\n",
       "      <td>0</td>\n",
       "    </tr>\n",
       "    <tr>\n",
       "      <th>111</th>\n",
       "      <td>111</td>\n",
       "      <td>2013-01-01</td>\n",
       "      <td>12</td>\n",
       "      <td>GROCERY I</td>\n",
       "      <td>0.0</td>\n",
       "      <td>0</td>\n",
       "    </tr>\n",
       "    <tr>\n",
       "      <th>144</th>\n",
       "      <td>144</td>\n",
       "      <td>2013-01-01</td>\n",
       "      <td>13</td>\n",
       "      <td>GROCERY I</td>\n",
       "      <td>0.0</td>\n",
       "      <td>0</td>\n",
       "    </tr>\n",
       "  </tbody>\n",
       "</table>\n",
       "</div>"
      ],
      "text/plain": [
       "      id       date  store_nbr     family  sales  onpromotion\n",
       "12    12 2013-01-01          1  GROCERY I    0.0            0\n",
       "45    45 2013-01-01         10  GROCERY I    0.0            0\n",
       "78    78 2013-01-01         11  GROCERY I    0.0            0\n",
       "111  111 2013-01-01         12  GROCERY I    0.0            0\n",
       "144  144 2013-01-01         13  GROCERY I    0.0            0"
      ]
     },
     "execution_count": 12,
     "metadata": {},
     "output_type": "execute_result"
    }
   ],
   "source": [
    "df_train_grocery.head()"
   ]
  },
  {
   "cell_type": "markdown",
   "id": "b7f785c5",
   "metadata": {},
   "source": [
    "### Rata-rata penjualan toko grosir setiap hari"
   ]
  },
  {
   "cell_type": "code",
   "execution_count": 13,
   "id": "412fd12a",
   "metadata": {},
   "outputs": [
    {
     "data": {
      "text/html": [
       "<div>\n",
       "<style scoped>\n",
       "    .dataframe tbody tr th:only-of-type {\n",
       "        vertical-align: middle;\n",
       "    }\n",
       "\n",
       "    .dataframe tbody tr th {\n",
       "        vertical-align: top;\n",
       "    }\n",
       "\n",
       "    .dataframe thead th {\n",
       "        text-align: right;\n",
       "    }\n",
       "</style>\n",
       "<table border=\"1\" class=\"dataframe\">\n",
       "  <thead>\n",
       "    <tr style=\"text-align: right;\">\n",
       "      <th></th>\n",
       "      <th>sales</th>\n",
       "    </tr>\n",
       "    <tr>\n",
       "      <th>store_nbr</th>\n",
       "      <th></th>\n",
       "    </tr>\n",
       "  </thead>\n",
       "  <tbody>\n",
       "    <tr>\n",
       "      <th>44</th>\n",
       "      <td>9730.436483</td>\n",
       "    </tr>\n",
       "    <tr>\n",
       "      <th>45</th>\n",
       "      <td>9708.878439</td>\n",
       "    </tr>\n",
       "    <tr>\n",
       "      <th>47</th>\n",
       "      <td>9212.902904</td>\n",
       "    </tr>\n",
       "    <tr>\n",
       "      <th>46</th>\n",
       "      <td>8516.782660</td>\n",
       "    </tr>\n",
       "    <tr>\n",
       "      <th>3</th>\n",
       "      <td>7702.178130</td>\n",
       "    </tr>\n",
       "    <tr>\n",
       "      <th>48</th>\n",
       "      <td>7619.355173</td>\n",
       "    </tr>\n",
       "    <tr>\n",
       "      <th>49</th>\n",
       "      <td>6584.311164</td>\n",
       "    </tr>\n",
       "    <tr>\n",
       "      <th>11</th>\n",
       "      <td>6558.757992</td>\n",
       "    </tr>\n",
       "    <tr>\n",
       "      <th>9</th>\n",
       "      <td>6147.920998</td>\n",
       "    </tr>\n",
       "    <tr>\n",
       "      <th>50</th>\n",
       "      <td>6010.558964</td>\n",
       "    </tr>\n",
       "    <tr>\n",
       "      <th>51</th>\n",
       "      <td>4889.374703</td>\n",
       "    </tr>\n",
       "    <tr>\n",
       "      <th>8</th>\n",
       "      <td>4697.129454</td>\n",
       "    </tr>\n",
       "    <tr>\n",
       "      <th>6</th>\n",
       "      <td>4635.775635</td>\n",
       "    </tr>\n",
       "    <tr>\n",
       "      <th>40</th>\n",
       "      <td>4318.824785</td>\n",
       "    </tr>\n",
       "    <tr>\n",
       "      <th>39</th>\n",
       "      <td>4275.520641</td>\n",
       "    </tr>\n",
       "    <tr>\n",
       "      <th>31</th>\n",
       "      <td>3923.885649</td>\n",
       "    </tr>\n",
       "    <tr>\n",
       "      <th>2</th>\n",
       "      <td>3914.313419</td>\n",
       "    </tr>\n",
       "    <tr>\n",
       "      <th>17</th>\n",
       "      <td>3832.324951</td>\n",
       "    </tr>\n",
       "    <tr>\n",
       "      <th>34</th>\n",
       "      <td>3796.731995</td>\n",
       "    </tr>\n",
       "    <tr>\n",
       "      <th>24</th>\n",
       "      <td>3766.711401</td>\n",
       "    </tr>\n",
       "    <tr>\n",
       "      <th>38</th>\n",
       "      <td>3761.317111</td>\n",
       "    </tr>\n",
       "    <tr>\n",
       "      <th>7</th>\n",
       "      <td>3710.198335</td>\n",
       "    </tr>\n",
       "    <tr>\n",
       "      <th>28</th>\n",
       "      <td>3683.166439</td>\n",
       "    </tr>\n",
       "    <tr>\n",
       "      <th>37</th>\n",
       "      <td>3641.480998</td>\n",
       "    </tr>\n",
       "    <tr>\n",
       "      <th>4</th>\n",
       "      <td>3346.997381</td>\n",
       "    </tr>\n",
       "    <tr>\n",
       "      <th>43</th>\n",
       "      <td>3297.072725</td>\n",
       "    </tr>\n",
       "    <tr>\n",
       "      <th>36</th>\n",
       "      <td>3193.010014</td>\n",
       "    </tr>\n",
       "    <tr>\n",
       "      <th>27</th>\n",
       "      <td>3181.671021</td>\n",
       "    </tr>\n",
       "    <tr>\n",
       "      <th>5</th>\n",
       "      <td>3125.107873</td>\n",
       "    </tr>\n",
       "    <tr>\n",
       "      <th>33</th>\n",
       "      <td>3065.816471</td>\n",
       "    </tr>\n",
       "    <tr>\n",
       "      <th>19</th>\n",
       "      <td>3019.986726</td>\n",
       "    </tr>\n",
       "    <tr>\n",
       "      <th>41</th>\n",
       "      <td>2905.558195</td>\n",
       "    </tr>\n",
       "    <tr>\n",
       "      <th>20</th>\n",
       "      <td>2841.463126</td>\n",
       "    </tr>\n",
       "    <tr>\n",
       "      <th>15</th>\n",
       "      <td>2718.659209</td>\n",
       "    </tr>\n",
       "    <tr>\n",
       "      <th>13</th>\n",
       "      <td>2713.824691</td>\n",
       "    </tr>\n",
       "    <tr>\n",
       "      <th>14</th>\n",
       "      <td>2650.418950</td>\n",
       "    </tr>\n",
       "    <tr>\n",
       "      <th>54</th>\n",
       "      <td>2642.986814</td>\n",
       "    </tr>\n",
       "    <tr>\n",
       "      <th>16</th>\n",
       "      <td>2557.762618</td>\n",
       "    </tr>\n",
       "    <tr>\n",
       "      <th>12</th>\n",
       "      <td>2499.123461</td>\n",
       "    </tr>\n",
       "    <tr>\n",
       "      <th>18</th>\n",
       "      <td>2457.654001</td>\n",
       "    </tr>\n",
       "    <tr>\n",
       "      <th>10</th>\n",
       "      <td>2450.249510</td>\n",
       "    </tr>\n",
       "    <tr>\n",
       "      <th>1</th>\n",
       "      <td>2223.172803</td>\n",
       "    </tr>\n",
       "    <tr>\n",
       "      <th>23</th>\n",
       "      <td>1983.203088</td>\n",
       "    </tr>\n",
       "    <tr>\n",
       "      <th>53</th>\n",
       "      <td>1907.295131</td>\n",
       "    </tr>\n",
       "    <tr>\n",
       "      <th>21</th>\n",
       "      <td>1878.156730</td>\n",
       "    </tr>\n",
       "    <tr>\n",
       "      <th>29</th>\n",
       "      <td>1839.033934</td>\n",
       "    </tr>\n",
       "    <tr>\n",
       "      <th>35</th>\n",
       "      <td>1736.398381</td>\n",
       "    </tr>\n",
       "    <tr>\n",
       "      <th>25</th>\n",
       "      <td>1685.503563</td>\n",
       "    </tr>\n",
       "    <tr>\n",
       "      <th>26</th>\n",
       "      <td>1615.402613</td>\n",
       "    </tr>\n",
       "    <tr>\n",
       "      <th>30</th>\n",
       "      <td>1553.819268</td>\n",
       "    </tr>\n",
       "    <tr>\n",
       "      <th>32</th>\n",
       "      <td>1470.717088</td>\n",
       "    </tr>\n",
       "    <tr>\n",
       "      <th>42</th>\n",
       "      <td>1387.948676</td>\n",
       "    </tr>\n",
       "    <tr>\n",
       "      <th>22</th>\n",
       "      <td>932.459803</td>\n",
       "    </tr>\n",
       "    <tr>\n",
       "      <th>52</th>\n",
       "      <td>437.181116</td>\n",
       "    </tr>\n",
       "  </tbody>\n",
       "</table>\n",
       "</div>"
      ],
      "text/plain": [
       "                 sales\n",
       "store_nbr             \n",
       "44         9730.436483\n",
       "45         9708.878439\n",
       "47         9212.902904\n",
       "46         8516.782660\n",
       "3          7702.178130\n",
       "48         7619.355173\n",
       "49         6584.311164\n",
       "11         6558.757992\n",
       "9          6147.920998\n",
       "50         6010.558964\n",
       "51         4889.374703\n",
       "8          4697.129454\n",
       "6          4635.775635\n",
       "40         4318.824785\n",
       "39         4275.520641\n",
       "31         3923.885649\n",
       "2          3914.313419\n",
       "17         3832.324951\n",
       "34         3796.731995\n",
       "24         3766.711401\n",
       "38         3761.317111\n",
       "7          3710.198335\n",
       "28         3683.166439\n",
       "37         3641.480998\n",
       "4          3346.997381\n",
       "43         3297.072725\n",
       "36         3193.010014\n",
       "27         3181.671021\n",
       "5          3125.107873\n",
       "33         3065.816471\n",
       "19         3019.986726\n",
       "41         2905.558195\n",
       "20         2841.463126\n",
       "15         2718.659209\n",
       "13         2713.824691\n",
       "14         2650.418950\n",
       "54         2642.986814\n",
       "16         2557.762618\n",
       "12         2499.123461\n",
       "18         2457.654001\n",
       "10         2450.249510\n",
       "1          2223.172803\n",
       "23         1983.203088\n",
       "53         1907.295131\n",
       "21         1878.156730\n",
       "29         1839.033934\n",
       "35         1736.398381\n",
       "25         1685.503563\n",
       "26         1615.402613\n",
       "30         1553.819268\n",
       "32         1470.717088\n",
       "42         1387.948676\n",
       "22          932.459803\n",
       "52          437.181116"
      ]
     },
     "execution_count": 13,
     "metadata": {},
     "output_type": "execute_result"
    }
   ],
   "source": [
    "rata2_toko = df_train_grocery.groupby('store_nbr').sales.mean().sort_values(ascending = False).to_frame()\n",
    "rata2_toko"
   ]
  },
  {
   "cell_type": "code",
   "execution_count": 14,
   "id": "ceb3ef79",
   "metadata": {},
   "outputs": [
    {
     "data": {
      "image/png": "[encoded data removed]",
      "text/plain": [
       "<Figure size 1080x720 with 1 Axes>"
      ]
     },
     "metadata": {
      "needs_background": "light"
     },
     "output_type": "display_data"
    }
   ],
   "source": [
    "plt.figure(figsize=(15,10))\n",
    "sns.barplot(data= rata2_toko, x=rata2_toko.index, y='sales')\n",
    "plt.title('Rata-rata penjualan toko grosir setiap hari')\n",
    "plt.tight_layout()"
   ]
  },
  {
   "cell_type": "markdown",
   "id": "99c4a03d",
   "metadata": {},
   "source": [
    "`Berdasarkan hasil di atas, ternyata rata-rata penjualan grosir tertinggi ada di toko yang memiliki nomor 44 sebesar 9730.436, diikuti dengan store bernomor 45 sebesar 9708.878, dan toko yang memiliki penjualan grosir yaag paling rendah ada di toko bernomor 52 sebesar 437.181.`"
   ]
  },
  {
   "cell_type": "markdown",
   "id": "47f82573",
   "metadata": {},
   "source": [
    "### Total penjualan setiap hari"
   ]
  },
  {
   "cell_type": "code",
   "execution_count": 15,
   "id": "d618a1c1",
   "metadata": {},
   "outputs": [
    {
     "data": {
      "text/html": [
       "<div>\n",
       "<style scoped>\n",
       "    .dataframe tbody tr th:only-of-type {\n",
       "        vertical-align: middle;\n",
       "    }\n",
       "\n",
       "    .dataframe tbody tr th {\n",
       "        vertical-align: top;\n",
       "    }\n",
       "\n",
       "    .dataframe thead th {\n",
       "        text-align: right;\n",
       "    }\n",
       "</style>\n",
       "<table border=\"1\" class=\"dataframe\">\n",
       "  <thead>\n",
       "    <tr style=\"text-align: right;\">\n",
       "      <th></th>\n",
       "      <th>id</th>\n",
       "      <th>date</th>\n",
       "      <th>store_nbr</th>\n",
       "      <th>family</th>\n",
       "      <th>sales</th>\n",
       "      <th>onpromotion</th>\n",
       "    </tr>\n",
       "  </thead>\n",
       "  <tbody>\n",
       "    <tr>\n",
       "      <th>12</th>\n",
       "      <td>12</td>\n",
       "      <td>2013-01-01</td>\n",
       "      <td>1</td>\n",
       "      <td>GROCERY I</td>\n",
       "      <td>0.000</td>\n",
       "      <td>0</td>\n",
       "    </tr>\n",
       "    <tr>\n",
       "      <th>45</th>\n",
       "      <td>45</td>\n",
       "      <td>2013-01-01</td>\n",
       "      <td>10</td>\n",
       "      <td>GROCERY I</td>\n",
       "      <td>0.000</td>\n",
       "      <td>0</td>\n",
       "    </tr>\n",
       "    <tr>\n",
       "      <th>78</th>\n",
       "      <td>78</td>\n",
       "      <td>2013-01-01</td>\n",
       "      <td>11</td>\n",
       "      <td>GROCERY I</td>\n",
       "      <td>0.000</td>\n",
       "      <td>0</td>\n",
       "    </tr>\n",
       "    <tr>\n",
       "      <th>111</th>\n",
       "      <td>111</td>\n",
       "      <td>2013-01-01</td>\n",
       "      <td>12</td>\n",
       "      <td>GROCERY I</td>\n",
       "      <td>0.000</td>\n",
       "      <td>0</td>\n",
       "    </tr>\n",
       "    <tr>\n",
       "      <th>144</th>\n",
       "      <td>144</td>\n",
       "      <td>2013-01-01</td>\n",
       "      <td>13</td>\n",
       "      <td>GROCERY I</td>\n",
       "      <td>0.000</td>\n",
       "      <td>0</td>\n",
       "    </tr>\n",
       "    <tr>\n",
       "      <th>...</th>\n",
       "      <td>...</td>\n",
       "      <td>...</td>\n",
       "      <td>...</td>\n",
       "      <td>...</td>\n",
       "      <td>...</td>\n",
       "      <td>...</td>\n",
       "    </tr>\n",
       "    <tr>\n",
       "      <th>3000735</th>\n",
       "      <td>3000735</td>\n",
       "      <td>2017-08-15</td>\n",
       "      <td>54</td>\n",
       "      <td>GROCERY I</td>\n",
       "      <td>4235.000</td>\n",
       "      <td>44</td>\n",
       "    </tr>\n",
       "    <tr>\n",
       "      <th>3000768</th>\n",
       "      <td>3000768</td>\n",
       "      <td>2017-08-15</td>\n",
       "      <td>6</td>\n",
       "      <td>GROCERY I</td>\n",
       "      <td>4334.000</td>\n",
       "      <td>33</td>\n",
       "    </tr>\n",
       "    <tr>\n",
       "      <th>3000801</th>\n",
       "      <td>3000801</td>\n",
       "      <td>2017-08-15</td>\n",
       "      <td>7</td>\n",
       "      <td>GROCERY I</td>\n",
       "      <td>3678.000</td>\n",
       "      <td>34</td>\n",
       "    </tr>\n",
       "    <tr>\n",
       "      <th>3000834</th>\n",
       "      <td>3000834</td>\n",
       "      <td>2017-08-15</td>\n",
       "      <td>8</td>\n",
       "      <td>GROCERY I</td>\n",
       "      <td>4035.000</td>\n",
       "      <td>34</td>\n",
       "    </tr>\n",
       "    <tr>\n",
       "      <th>3000867</th>\n",
       "      <td>3000867</td>\n",
       "      <td>2017-08-15</td>\n",
       "      <td>9</td>\n",
       "      <td>GROCERY I</td>\n",
       "      <td>6630.383</td>\n",
       "      <td>62</td>\n",
       "    </tr>\n",
       "  </tbody>\n",
       "</table>\n",
       "<p>90936 rows × 6 columns</p>\n",
       "</div>"
      ],
      "text/plain": [
       "              id       date  store_nbr     family     sales  onpromotion\n",
       "12            12 2013-01-01          1  GROCERY I     0.000            0\n",
       "45            45 2013-01-01         10  GROCERY I     0.000            0\n",
       "78            78 2013-01-01         11  GROCERY I     0.000            0\n",
       "111          111 2013-01-01         12  GROCERY I     0.000            0\n",
       "144          144 2013-01-01         13  GROCERY I     0.000            0\n",
       "...          ...        ...        ...        ...       ...          ...\n",
       "3000735  3000735 2017-08-15         54  GROCERY I  4235.000           44\n",
       "3000768  3000768 2017-08-15          6  GROCERY I  4334.000           33\n",
       "3000801  3000801 2017-08-15          7  GROCERY I  3678.000           34\n",
       "3000834  3000834 2017-08-15          8  GROCERY I  4035.000           34\n",
       "3000867  3000867 2017-08-15          9  GROCERY I  6630.383           62\n",
       "\n",
       "[90936 rows x 6 columns]"
      ]
     },
     "execution_count": 15,
     "metadata": {},
     "output_type": "execute_result"
    }
   ],
   "source": [
    "df_train_grocery"
   ]
  },
  {
   "cell_type": "code",
   "execution_count": 16,
   "id": "42a2b0a8",
   "metadata": {},
   "outputs": [
    {
     "data": {
      "text/html": [
       "<div>\n",
       "<style scoped>\n",
       "    .dataframe tbody tr th:only-of-type {\n",
       "        vertical-align: middle;\n",
       "    }\n",
       "\n",
       "    .dataframe tbody tr th {\n",
       "        vertical-align: top;\n",
       "    }\n",
       "\n",
       "    .dataframe thead th {\n",
       "        text-align: right;\n",
       "    }\n",
       "</style>\n",
       "<table border=\"1\" class=\"dataframe\">\n",
       "  <thead>\n",
       "    <tr style=\"text-align: right;\">\n",
       "      <th></th>\n",
       "      <th>date</th>\n",
       "      <th>sales</th>\n",
       "      <th>onpromotion</th>\n",
       "    </tr>\n",
       "  </thead>\n",
       "  <tbody>\n",
       "    <tr>\n",
       "      <th>1200</th>\n",
       "      <td>2016-04-18</td>\n",
       "      <td>583222.480</td>\n",
       "      <td>1569</td>\n",
       "    </tr>\n",
       "    <tr>\n",
       "      <th>1547</th>\n",
       "      <td>2017-04-01</td>\n",
       "      <td>474003.906</td>\n",
       "      <td>2743</td>\n",
       "    </tr>\n",
       "    <tr>\n",
       "      <th>1199</th>\n",
       "      <td>2016-04-17</td>\n",
       "      <td>456372.940</td>\n",
       "      <td>1468</td>\n",
       "    </tr>\n",
       "    <tr>\n",
       "      <th>1203</th>\n",
       "      <td>2016-04-21</td>\n",
       "      <td>438060.072</td>\n",
       "      <td>1808</td>\n",
       "    </tr>\n",
       "    <tr>\n",
       "      <th>1201</th>\n",
       "      <td>2016-04-19</td>\n",
       "      <td>432782.685</td>\n",
       "      <td>1529</td>\n",
       "    </tr>\n",
       "  </tbody>\n",
       "</table>\n",
       "</div>"
      ],
      "text/plain": [
       "           date       sales  onpromotion\n",
       "1200 2016-04-18  583222.480         1569\n",
       "1547 2017-04-01  474003.906         2743\n",
       "1199 2016-04-17  456372.940         1468\n",
       "1203 2016-04-21  438060.072         1808\n",
       "1201 2016-04-19  432782.685         1529"
      ]
     },
     "execution_count": 16,
     "metadata": {},
     "output_type": "execute_result"
    }
   ],
   "source": [
    "df_train_grocery= df_train_grocery.groupby(['date'])[['sales', 'onpromotion']].sum().reset_index()\n",
    "\n",
    "df_train_grocery.sort_values(by='sales',ascending=False).head()"
   ]
  },
  {
   "cell_type": "code",
   "execution_count": 17,
   "id": "06818f4f",
   "metadata": {},
   "outputs": [
    {
     "data": {
      "image/png": "[encoded data removed]",
      "text/plain": [
       "<Figure size 864x432 with 1 Axes>"
      ]
     },
     "metadata": {
      "needs_background": "light"
     },
     "output_type": "display_data"
    }
   ],
   "source": [
    "plt.figure(figsize=(12,6))\n",
    "sns.lineplot(data= df_train_grocery, x='date', y='sales')\n",
    "plt.title('Total penjualan setiap hari')\n",
    "plt.tight_layout()"
   ]
  },
  {
   "cell_type": "markdown",
   "id": "4a883530",
   "metadata": {},
   "source": [
    "`Total penjualan yang paling besar terjadi pada tanggal 18 april 2016 dengan jumlah promosi sebanyak 583222.480.`"
   ]
  },
  {
   "cell_type": "code",
   "execution_count": 18,
   "id": "2ba89179",
   "metadata": {},
   "outputs": [
    {
     "name": "stdout",
     "output_type": "stream",
     "text": [
      "1684\n"
     ]
    },
    {
     "data": {
      "text/plain": [
       "1688"
      ]
     },
     "execution_count": 18,
     "metadata": {},
     "output_type": "execute_result"
    }
   ],
   "source": [
    "print(df_train_grocery.date.shape[0])\n",
    "len(pd.date_range(start=min(df_train_grocery['date']),end=max(df_train_grocery['date'])))"
   ]
  },
  {
   "cell_type": "markdown",
   "id": "d4697fed",
   "metadata": {},
   "source": [
    "`Dapat dilihat, ternyata terdapat perbedaan jumlah baris antara data 'train' dan tanggal aktual. Hal ini mungkin di dalam datasetnya tidak terdapat transaksi ketika hari raya Natal.`\n",
    "\n",
    "`Karena datasetnya dimulai dari januari 2013 sampai agustus 2017, maka sangat wajar jika terdapat 4 tanggal yang hilang.`"
   ]
  },
  {
   "cell_type": "code",
   "execution_count": 19,
   "id": "42ce9398",
   "metadata": {},
   "outputs": [
    {
     "data": {
      "text/plain": [
       "DatetimeIndex(['2013-01-01', '2013-01-02', '2013-01-03', '2013-01-04',\n",
       "               '2013-01-05', '2013-01-06', '2013-01-07', '2013-01-08',\n",
       "               '2013-01-09', '2013-01-10',\n",
       "               ...\n",
       "               '2017-08-06', '2017-08-07', '2017-08-08', '2017-08-09',\n",
       "               '2017-08-10', '2017-08-11', '2017-08-12', '2017-08-13',\n",
       "               '2017-08-14', '2017-08-15'],\n",
       "              dtype='datetime64[ns]', length=1688, freq='D')"
      ]
     },
     "execution_count": 19,
     "metadata": {},
     "output_type": "execute_result"
    }
   ],
   "source": [
    "tanggal = pd.date_range(start=min(df_train['date']),end=max(df_train['date']))\n",
    "tanggal"
   ]
  },
  {
   "cell_type": "code",
   "execution_count": 20,
   "id": "dcaf1e93",
   "metadata": {},
   "outputs": [
    {
     "data": {
      "text/html": [
       "<div>\n",
       "<style scoped>\n",
       "    .dataframe tbody tr th:only-of-type {\n",
       "        vertical-align: middle;\n",
       "    }\n",
       "\n",
       "    .dataframe tbody tr th {\n",
       "        vertical-align: top;\n",
       "    }\n",
       "\n",
       "    .dataframe thead th {\n",
       "        text-align: right;\n",
       "    }\n",
       "</style>\n",
       "<table border=\"1\" class=\"dataframe\">\n",
       "  <thead>\n",
       "    <tr style=\"text-align: right;\">\n",
       "      <th></th>\n",
       "      <th>date</th>\n",
       "    </tr>\n",
       "  </thead>\n",
       "  <tbody>\n",
       "    <tr>\n",
       "      <th>0</th>\n",
       "      <td>2013-01-01</td>\n",
       "    </tr>\n",
       "    <tr>\n",
       "      <th>1</th>\n",
       "      <td>2013-01-02</td>\n",
       "    </tr>\n",
       "    <tr>\n",
       "      <th>2</th>\n",
       "      <td>2013-01-03</td>\n",
       "    </tr>\n",
       "    <tr>\n",
       "      <th>3</th>\n",
       "      <td>2013-01-04</td>\n",
       "    </tr>\n",
       "    <tr>\n",
       "      <th>4</th>\n",
       "      <td>2013-01-05</td>\n",
       "    </tr>\n",
       "  </tbody>\n",
       "</table>\n",
       "</div>"
      ],
      "text/plain": [
       "        date\n",
       "0 2013-01-01\n",
       "1 2013-01-02\n",
       "2 2013-01-03\n",
       "3 2013-01-04\n",
       "4 2013-01-05"
      ]
     },
     "execution_count": 20,
     "metadata": {},
     "output_type": "execute_result"
    }
   ],
   "source": [
    "tanggal = pd.DataFrame(tanggal, columns=['date'])\n",
    "tanggal.head()"
   ]
  },
  {
   "cell_type": "code",
   "execution_count": 21,
   "id": "65275ece",
   "metadata": {},
   "outputs": [
    {
     "data": {
      "text/html": [
       "<div>\n",
       "<style scoped>\n",
       "    .dataframe tbody tr th:only-of-type {\n",
       "        vertical-align: middle;\n",
       "    }\n",
       "\n",
       "    .dataframe tbody tr th {\n",
       "        vertical-align: top;\n",
       "    }\n",
       "\n",
       "    .dataframe thead th {\n",
       "        text-align: right;\n",
       "    }\n",
       "</style>\n",
       "<table border=\"1\" class=\"dataframe\">\n",
       "  <thead>\n",
       "    <tr style=\"text-align: right;\">\n",
       "      <th></th>\n",
       "      <th>date</th>\n",
       "      <th>sales</th>\n",
       "      <th>onpromotion</th>\n",
       "    </tr>\n",
       "  </thead>\n",
       "  <tbody>\n",
       "    <tr>\n",
       "      <th>0</th>\n",
       "      <td>2013-01-01</td>\n",
       "      <td>700.000</td>\n",
       "      <td>0.0</td>\n",
       "    </tr>\n",
       "    <tr>\n",
       "      <th>1</th>\n",
       "      <td>2013-01-02</td>\n",
       "      <td>202020.000</td>\n",
       "      <td>0.0</td>\n",
       "    </tr>\n",
       "    <tr>\n",
       "      <th>2</th>\n",
       "      <td>2013-01-03</td>\n",
       "      <td>144878.000</td>\n",
       "      <td>0.0</td>\n",
       "    </tr>\n",
       "    <tr>\n",
       "      <th>3</th>\n",
       "      <td>2013-01-04</td>\n",
       "      <td>135754.000</td>\n",
       "      <td>0.0</td>\n",
       "    </tr>\n",
       "    <tr>\n",
       "      <th>4</th>\n",
       "      <td>2013-01-05</td>\n",
       "      <td>188356.000</td>\n",
       "      <td>0.0</td>\n",
       "    </tr>\n",
       "    <tr>\n",
       "      <th>...</th>\n",
       "      <td>...</td>\n",
       "      <td>...</td>\n",
       "      <td>...</td>\n",
       "    </tr>\n",
       "    <tr>\n",
       "      <th>1683</th>\n",
       "      <td>2017-08-11</td>\n",
       "      <td>238221.922</td>\n",
       "      <td>2349.0</td>\n",
       "    </tr>\n",
       "    <tr>\n",
       "      <th>1684</th>\n",
       "      <td>2017-08-12</td>\n",
       "      <td>238627.633</td>\n",
       "      <td>2325.0</td>\n",
       "    </tr>\n",
       "    <tr>\n",
       "      <th>1685</th>\n",
       "      <td>2017-08-13</td>\n",
       "      <td>258442.452</td>\n",
       "      <td>2320.0</td>\n",
       "    </tr>\n",
       "    <tr>\n",
       "      <th>1686</th>\n",
       "      <td>2017-08-14</td>\n",
       "      <td>225355.694</td>\n",
       "      <td>2335.0</td>\n",
       "    </tr>\n",
       "    <tr>\n",
       "      <th>1687</th>\n",
       "      <td>2017-08-15</td>\n",
       "      <td>224208.125</td>\n",
       "      <td>2296.0</td>\n",
       "    </tr>\n",
       "  </tbody>\n",
       "</table>\n",
       "<p>1688 rows × 3 columns</p>\n",
       "</div>"
      ],
      "text/plain": [
       "           date       sales  onpromotion\n",
       "0    2013-01-01     700.000          0.0\n",
       "1    2013-01-02  202020.000          0.0\n",
       "2    2013-01-03  144878.000          0.0\n",
       "3    2013-01-04  135754.000          0.0\n",
       "4    2013-01-05  188356.000          0.0\n",
       "...         ...         ...          ...\n",
       "1683 2017-08-11  238221.922       2349.0\n",
       "1684 2017-08-12  238627.633       2325.0\n",
       "1685 2017-08-13  258442.452       2320.0\n",
       "1686 2017-08-14  225355.694       2335.0\n",
       "1687 2017-08-15  224208.125       2296.0\n",
       "\n",
       "[1688 rows x 3 columns]"
      ]
     },
     "execution_count": 21,
     "metadata": {},
     "output_type": "execute_result"
    }
   ],
   "source": [
    "df_train_grocery = df_train_grocery.merge(tanggal, on='date', how='right')\n",
    "df_train_grocery"
   ]
  },
  {
   "cell_type": "code",
   "execution_count": 22,
   "id": "0244f93c",
   "metadata": {},
   "outputs": [
    {
     "name": "stdout",
     "output_type": "stream",
     "text": [
      "<class 'pandas.core.frame.DataFrame'>\n",
      "Int64Index: 1688 entries, 0 to 1687\n",
      "Data columns (total 3 columns):\n",
      " #   Column       Non-Null Count  Dtype         \n",
      "---  ------       --------------  -----         \n",
      " 0   date         1688 non-null   datetime64[ns]\n",
      " 1   sales        1684 non-null   float64       \n",
      " 2   onpromotion  1684 non-null   float64       \n",
      "dtypes: datetime64[ns](1), float64(2)\n",
      "memory usage: 52.8 KB\n"
     ]
    }
   ],
   "source": [
    "df_train_grocery.info()"
   ]
  },
  {
   "cell_type": "markdown",
   "id": "096c6c2b",
   "metadata": {},
   "source": [
    "`Terdapat 4 missing value pada kolom sales dan onpromotion`"
   ]
  },
  {
   "cell_type": "markdown",
   "id": "b5a68cb4",
   "metadata": {},
   "source": [
    "### Handling Missing Value"
   ]
  },
  {
   "cell_type": "code",
   "execution_count": 23,
   "id": "3ce2c0da",
   "metadata": {},
   "outputs": [
    {
     "data": {
      "text/html": [
       "<div>\n",
       "<style scoped>\n",
       "    .dataframe tbody tr th:only-of-type {\n",
       "        vertical-align: middle;\n",
       "    }\n",
       "\n",
       "    .dataframe tbody tr th {\n",
       "        vertical-align: top;\n",
       "    }\n",
       "\n",
       "    .dataframe thead th {\n",
       "        text-align: right;\n",
       "    }\n",
       "</style>\n",
       "<table border=\"1\" class=\"dataframe\">\n",
       "  <thead>\n",
       "    <tr style=\"text-align: right;\">\n",
       "      <th></th>\n",
       "      <th>date</th>\n",
       "      <th>sales</th>\n",
       "      <th>onpromotion</th>\n",
       "    </tr>\n",
       "  </thead>\n",
       "  <tbody>\n",
       "    <tr>\n",
       "      <th>358</th>\n",
       "      <td>2013-12-25</td>\n",
       "      <td>NaN</td>\n",
       "      <td>NaN</td>\n",
       "    </tr>\n",
       "    <tr>\n",
       "      <th>723</th>\n",
       "      <td>2014-12-25</td>\n",
       "      <td>NaN</td>\n",
       "      <td>NaN</td>\n",
       "    </tr>\n",
       "    <tr>\n",
       "      <th>1088</th>\n",
       "      <td>2015-12-25</td>\n",
       "      <td>NaN</td>\n",
       "      <td>NaN</td>\n",
       "    </tr>\n",
       "    <tr>\n",
       "      <th>1454</th>\n",
       "      <td>2016-12-25</td>\n",
       "      <td>NaN</td>\n",
       "      <td>NaN</td>\n",
       "    </tr>\n",
       "  </tbody>\n",
       "</table>\n",
       "</div>"
      ],
      "text/plain": [
       "           date  sales  onpromotion\n",
       "358  2013-12-25    NaN          NaN\n",
       "723  2014-12-25    NaN          NaN\n",
       "1088 2015-12-25    NaN          NaN\n",
       "1454 2016-12-25    NaN          NaN"
      ]
     },
     "execution_count": 23,
     "metadata": {},
     "output_type": "execute_result"
    }
   ],
   "source": [
    "df_train_grocery[df_train_grocery.sales.isna()]"
   ]
  },
  {
   "cell_type": "markdown",
   "id": "ae4d2a49",
   "metadata": {},
   "source": [
    "`Ternyata benar, kolom sales dan onpromotion pada dataset ini berisi missing value setiap hari raya Natal. Hal ini menandakan kalau pada tanggal tersebut tidak terdapat transaksi apa-apa di dalamnya.`"
   ]
  },
  {
   "cell_type": "markdown",
   "id": "f481d541",
   "metadata": {},
   "source": [
    "### Impute Missing Value"
   ]
  },
  {
   "cell_type": "code",
   "execution_count": 24,
   "id": "58e7b2b6",
   "metadata": {},
   "outputs": [],
   "source": [
    "df_train_grocery.fillna(0, inplace=True)"
   ]
  },
  {
   "cell_type": "code",
   "execution_count": 25,
   "id": "b759a93a",
   "metadata": {},
   "outputs": [
    {
     "name": "stdout",
     "output_type": "stream",
     "text": [
      "<class 'pandas.core.frame.DataFrame'>\n",
      "Int64Index: 1688 entries, 0 to 1687\n",
      "Data columns (total 3 columns):\n",
      " #   Column       Non-Null Count  Dtype         \n",
      "---  ------       --------------  -----         \n",
      " 0   date         1688 non-null   datetime64[ns]\n",
      " 1   sales        1688 non-null   float64       \n",
      " 2   onpromotion  1688 non-null   float64       \n",
      "dtypes: datetime64[ns](1), float64(2)\n",
      "memory usage: 52.8 KB\n"
     ]
    }
   ],
   "source": [
    "df_train_grocery.info()"
   ]
  },
  {
   "cell_type": "markdown",
   "id": "e3ad1237",
   "metadata": {},
   "source": [
    "`Karena nilai missing value yang ada itu terjadi pada hari raya Natal yang mengindikasikan tidak terdapat aktivitas transaksi apa-apa, maka di sini saya mengisi nilai pada kolom 'sales' dan 'onpromotion' dengan angka 0.`"
   ]
  },
  {
   "cell_type": "markdown",
   "id": "cf30d30b",
   "metadata": {},
   "source": [
    "### Total penjualan tertinggi setiap tahun"
   ]
  },
  {
   "cell_type": "code",
   "execution_count": 26,
   "id": "4d4cbbb2",
   "metadata": {},
   "outputs": [],
   "source": [
    "date = df_train_grocery.date.dt"
   ]
  },
  {
   "cell_type": "code",
   "execution_count": 27,
   "id": "533787f5",
   "metadata": {},
   "outputs": [],
   "source": [
    "def year (sales_max):\n",
    "    if sales_max == 2013 :\n",
    "        sales_max = df_train_grocery[(date.year == sales_max)].sales.max() \n",
    "        return(f'Total pejualan tertinggi pada tahun 2013 sebesar {sales_max}')\n",
    "        \n",
    "    elif sales_max == 2014:\n",
    "        sales_max = df_train_grocery[(date.year == sales_max)].sales.max() \n",
    "        return(f'Total pejualan tertinggi pada tahun 2014 sebesar {sales_max}')\n",
    "        \n",
    "    elif sales_max == 2015:\n",
    "        sales_max = df_train_grocery[(date.year == sales_max)].sales.max() \n",
    "        return(f'Total pejualan tertinggi pada tahun 2015 sebesar {sales_max}')\n",
    "\n",
    "    elif sales_max == 2016:\n",
    "        sales_max = df_train_grocery[(date.year == sales_max)].sales.max() \n",
    "        return(f'Total pejualan tertinggi pada tahun 2016 sebesar {sales_max}')\n",
    "        \n",
    "    else:\n",
    "        sales_max = df_train_grocery[(date.year == sales_max)].sales.max() \n",
    "        return(f'Total pejualan tertinggi pada tahun 2017 sebesar {sales_max}')"
   ]
  },
  {
   "cell_type": "code",
   "execution_count": 28,
   "id": "774297fc",
   "metadata": {},
   "outputs": [
    {
     "name": "stdout",
     "output_type": "stream",
     "text": [
      "Total pejualan tertinggi pada tahun 2013 sebesar 326975.0\n",
      "Total pejualan tertinggi pada tahun 2014 sebesar 357665.078\n",
      "Total pejualan tertinggi pada tahun 2015 sebesar 377564.83400000003\n",
      "Total pejualan tertinggi pada tahun 2016 sebesar 583222.48\n",
      "Total pejualan tertinggi pada tahun 2017 sebesar 474003.906\n"
     ]
    }
   ],
   "source": [
    "print(year(2013))\n",
    "print(year(2014))\n",
    "print(year(2015))\n",
    "print(year(2016))\n",
    "print(year(2017))"
   ]
  },
  {
   "cell_type": "markdown",
   "id": "3095830d",
   "metadata": {},
   "source": [
    "## 3.2 Holiday Dataset"
   ]
  },
  {
   "cell_type": "code",
   "execution_count": 29,
   "id": "8ada2618",
   "metadata": {},
   "outputs": [
    {
     "data": {
      "text/html": [
       "<div>\n",
       "<style scoped>\n",
       "    .dataframe tbody tr th:only-of-type {\n",
       "        vertical-align: middle;\n",
       "    }\n",
       "\n",
       "    .dataframe tbody tr th {\n",
       "        vertical-align: top;\n",
       "    }\n",
       "\n",
       "    .dataframe thead th {\n",
       "        text-align: right;\n",
       "    }\n",
       "</style>\n",
       "<table border=\"1\" class=\"dataframe\">\n",
       "  <thead>\n",
       "    <tr style=\"text-align: right;\">\n",
       "      <th></th>\n",
       "      <th>date</th>\n",
       "      <th>type</th>\n",
       "      <th>locale</th>\n",
       "      <th>locale_name</th>\n",
       "      <th>description</th>\n",
       "      <th>transferred</th>\n",
       "    </tr>\n",
       "  </thead>\n",
       "  <tbody>\n",
       "    <tr>\n",
       "      <th>0</th>\n",
       "      <td>2012-03-02</td>\n",
       "      <td>Holiday</td>\n",
       "      <td>Local</td>\n",
       "      <td>Manta</td>\n",
       "      <td>Fundacion de Manta</td>\n",
       "      <td>False</td>\n",
       "    </tr>\n",
       "    <tr>\n",
       "      <th>1</th>\n",
       "      <td>2012-04-01</td>\n",
       "      <td>Holiday</td>\n",
       "      <td>Regional</td>\n",
       "      <td>Cotopaxi</td>\n",
       "      <td>Provincializacion de Cotopaxi</td>\n",
       "      <td>False</td>\n",
       "    </tr>\n",
       "    <tr>\n",
       "      <th>2</th>\n",
       "      <td>2012-04-12</td>\n",
       "      <td>Holiday</td>\n",
       "      <td>Local</td>\n",
       "      <td>Cuenca</td>\n",
       "      <td>Fundacion de Cuenca</td>\n",
       "      <td>False</td>\n",
       "    </tr>\n",
       "    <tr>\n",
       "      <th>3</th>\n",
       "      <td>2012-04-14</td>\n",
       "      <td>Holiday</td>\n",
       "      <td>Local</td>\n",
       "      <td>Libertad</td>\n",
       "      <td>Cantonizacion de Libertad</td>\n",
       "      <td>False</td>\n",
       "    </tr>\n",
       "    <tr>\n",
       "      <th>4</th>\n",
       "      <td>2012-04-21</td>\n",
       "      <td>Holiday</td>\n",
       "      <td>Local</td>\n",
       "      <td>Riobamba</td>\n",
       "      <td>Cantonizacion de Riobamba</td>\n",
       "      <td>False</td>\n",
       "    </tr>\n",
       "  </tbody>\n",
       "</table>\n",
       "</div>"
      ],
      "text/plain": [
       "         date     type    locale locale_name                    description  \\\n",
       "0  2012-03-02  Holiday     Local       Manta             Fundacion de Manta   \n",
       "1  2012-04-01  Holiday  Regional    Cotopaxi  Provincializacion de Cotopaxi   \n",
       "2  2012-04-12  Holiday     Local      Cuenca            Fundacion de Cuenca   \n",
       "3  2012-04-14  Holiday     Local    Libertad      Cantonizacion de Libertad   \n",
       "4  2012-04-21  Holiday     Local    Riobamba      Cantonizacion de Riobamba   \n",
       "\n",
       "   transferred  \n",
       "0        False  \n",
       "1        False  \n",
       "2        False  \n",
       "3        False  \n",
       "4        False  "
      ]
     },
     "execution_count": 29,
     "metadata": {},
     "output_type": "execute_result"
    }
   ],
   "source": [
    "df_holiday.head()"
   ]
  },
  {
   "cell_type": "markdown",
   "id": "cbdd3fa1",
   "metadata": {},
   "source": [
    "### Data Information"
   ]
  },
  {
   "cell_type": "code",
   "execution_count": 30,
   "id": "9223ea57",
   "metadata": {},
   "outputs": [
    {
     "name": "stdout",
     "output_type": "stream",
     "text": [
      "<class 'pandas.core.frame.DataFrame'>\n",
      "RangeIndex: 350 entries, 0 to 349\n",
      "Data columns (total 6 columns):\n",
      " #   Column       Non-Null Count  Dtype \n",
      "---  ------       --------------  ----- \n",
      " 0   date         350 non-null    object\n",
      " 1   type         350 non-null    object\n",
      " 2   locale       350 non-null    object\n",
      " 3   locale_name  350 non-null    object\n",
      " 4   description  350 non-null    object\n",
      " 5   transferred  350 non-null    bool  \n",
      "dtypes: bool(1), object(5)\n",
      "memory usage: 14.1+ KB\n"
     ]
    }
   ],
   "source": [
    "df_holiday.info()"
   ]
  },
  {
   "cell_type": "markdown",
   "id": "83839811",
   "metadata": {},
   "source": [
    "### Data Description"
   ]
  },
  {
   "cell_type": "code",
   "execution_count": 31,
   "id": "3a5ffc8c",
   "metadata": {},
   "outputs": [
    {
     "data": {
      "text/html": [
       "<div>\n",
       "<style scoped>\n",
       "    .dataframe tbody tr th:only-of-type {\n",
       "        vertical-align: middle;\n",
       "    }\n",
       "\n",
       "    .dataframe tbody tr th {\n",
       "        vertical-align: top;\n",
       "    }\n",
       "\n",
       "    .dataframe thead th {\n",
       "        text-align: right;\n",
       "    }\n",
       "</style>\n",
       "<table border=\"1\" class=\"dataframe\">\n",
       "  <thead>\n",
       "    <tr style=\"text-align: right;\">\n",
       "      <th></th>\n",
       "      <th>date</th>\n",
       "      <th>type</th>\n",
       "      <th>locale</th>\n",
       "      <th>locale_name</th>\n",
       "      <th>description</th>\n",
       "      <th>transferred</th>\n",
       "    </tr>\n",
       "  </thead>\n",
       "  <tbody>\n",
       "    <tr>\n",
       "      <th>count</th>\n",
       "      <td>350</td>\n",
       "      <td>350</td>\n",
       "      <td>350</td>\n",
       "      <td>350</td>\n",
       "      <td>350</td>\n",
       "      <td>350</td>\n",
       "    </tr>\n",
       "    <tr>\n",
       "      <th>unique</th>\n",
       "      <td>312</td>\n",
       "      <td>6</td>\n",
       "      <td>3</td>\n",
       "      <td>24</td>\n",
       "      <td>103</td>\n",
       "      <td>2</td>\n",
       "    </tr>\n",
       "    <tr>\n",
       "      <th>top</th>\n",
       "      <td>2014-06-25</td>\n",
       "      <td>Holiday</td>\n",
       "      <td>National</td>\n",
       "      <td>Ecuador</td>\n",
       "      <td>Carnaval</td>\n",
       "      <td>False</td>\n",
       "    </tr>\n",
       "    <tr>\n",
       "      <th>freq</th>\n",
       "      <td>4</td>\n",
       "      <td>221</td>\n",
       "      <td>174</td>\n",
       "      <td>174</td>\n",
       "      <td>10</td>\n",
       "      <td>338</td>\n",
       "    </tr>\n",
       "  </tbody>\n",
       "</table>\n",
       "</div>"
      ],
      "text/plain": [
       "              date     type    locale locale_name description transferred\n",
       "count          350      350       350         350         350         350\n",
       "unique         312        6         3          24         103           2\n",
       "top     2014-06-25  Holiday  National     Ecuador    Carnaval       False\n",
       "freq             4      221       174         174          10         338"
      ]
     },
     "execution_count": 31,
     "metadata": {},
     "output_type": "execute_result"
    }
   ],
   "source": [
    "df_holiday.describe()"
   ]
  },
  {
   "cell_type": "code",
   "execution_count": 32,
   "id": "4b1ca4bb",
   "metadata": {},
   "outputs": [
    {
     "data": {
      "text/html": [
       "<div>\n",
       "<style scoped>\n",
       "    .dataframe tbody tr th:only-of-type {\n",
       "        vertical-align: middle;\n",
       "    }\n",
       "\n",
       "    .dataframe tbody tr th {\n",
       "        vertical-align: top;\n",
       "    }\n",
       "\n",
       "    .dataframe thead th {\n",
       "        text-align: right;\n",
       "    }\n",
       "</style>\n",
       "<table border=\"1\" class=\"dataframe\">\n",
       "  <thead>\n",
       "    <tr style=\"text-align: right;\">\n",
       "      <th></th>\n",
       "      <th>date</th>\n",
       "      <th>type</th>\n",
       "      <th>locale</th>\n",
       "      <th>locale_name</th>\n",
       "      <th>description</th>\n",
       "    </tr>\n",
       "  </thead>\n",
       "  <tbody>\n",
       "    <tr>\n",
       "      <th>count</th>\n",
       "      <td>350</td>\n",
       "      <td>350</td>\n",
       "      <td>350</td>\n",
       "      <td>350</td>\n",
       "      <td>350</td>\n",
       "    </tr>\n",
       "    <tr>\n",
       "      <th>unique</th>\n",
       "      <td>312</td>\n",
       "      <td>6</td>\n",
       "      <td>3</td>\n",
       "      <td>24</td>\n",
       "      <td>103</td>\n",
       "    </tr>\n",
       "    <tr>\n",
       "      <th>top</th>\n",
       "      <td>2014-06-25</td>\n",
       "      <td>Holiday</td>\n",
       "      <td>National</td>\n",
       "      <td>Ecuador</td>\n",
       "      <td>Carnaval</td>\n",
       "    </tr>\n",
       "    <tr>\n",
       "      <th>freq</th>\n",
       "      <td>4</td>\n",
       "      <td>221</td>\n",
       "      <td>174</td>\n",
       "      <td>174</td>\n",
       "      <td>10</td>\n",
       "    </tr>\n",
       "  </tbody>\n",
       "</table>\n",
       "</div>"
      ],
      "text/plain": [
       "              date     type    locale locale_name description\n",
       "count          350      350       350         350         350\n",
       "unique         312        6         3          24         103\n",
       "top     2014-06-25  Holiday  National     Ecuador    Carnaval\n",
       "freq             4      221       174         174          10"
      ]
     },
     "execution_count": 32,
     "metadata": {},
     "output_type": "execute_result"
    }
   ],
   "source": [
    "df_holiday.describe(include='O')"
   ]
  },
  {
   "cell_type": "code",
   "execution_count": 33,
   "id": "77071b04",
   "metadata": {},
   "outputs": [],
   "source": [
    "df_holiday['date'] = pd.to_datetime(df_holiday['date'])"
   ]
  },
  {
   "cell_type": "code",
   "execution_count": 34,
   "id": "0dd5ed39",
   "metadata": {},
   "outputs": [
    {
     "data": {
      "text/html": [
       "<div>\n",
       "<style scoped>\n",
       "    .dataframe tbody tr th:only-of-type {\n",
       "        vertical-align: middle;\n",
       "    }\n",
       "\n",
       "    .dataframe tbody tr th {\n",
       "        vertical-align: top;\n",
       "    }\n",
       "\n",
       "    .dataframe thead th {\n",
       "        text-align: right;\n",
       "    }\n",
       "</style>\n",
       "<table border=\"1\" class=\"dataframe\">\n",
       "  <thead>\n",
       "    <tr style=\"text-align: right;\">\n",
       "      <th></th>\n",
       "      <th>date</th>\n",
       "      <th>sales</th>\n",
       "      <th>onpromotion</th>\n",
       "      <th>type</th>\n",
       "      <th>locale</th>\n",
       "      <th>locale_name</th>\n",
       "      <th>description</th>\n",
       "      <th>transferred</th>\n",
       "    </tr>\n",
       "  </thead>\n",
       "  <tbody>\n",
       "    <tr>\n",
       "      <th>0</th>\n",
       "      <td>2013-01-01</td>\n",
       "      <td>700.000</td>\n",
       "      <td>0.0</td>\n",
       "      <td>Holiday</td>\n",
       "      <td>National</td>\n",
       "      <td>Ecuador</td>\n",
       "      <td>Primer dia del ano</td>\n",
       "      <td>False</td>\n",
       "    </tr>\n",
       "    <tr>\n",
       "      <th>1</th>\n",
       "      <td>2013-01-02</td>\n",
       "      <td>202020.000</td>\n",
       "      <td>0.0</td>\n",
       "      <td>NaN</td>\n",
       "      <td>NaN</td>\n",
       "      <td>NaN</td>\n",
       "      <td>NaN</td>\n",
       "      <td>NaN</td>\n",
       "    </tr>\n",
       "    <tr>\n",
       "      <th>2</th>\n",
       "      <td>2013-01-03</td>\n",
       "      <td>144878.000</td>\n",
       "      <td>0.0</td>\n",
       "      <td>NaN</td>\n",
       "      <td>NaN</td>\n",
       "      <td>NaN</td>\n",
       "      <td>NaN</td>\n",
       "      <td>NaN</td>\n",
       "    </tr>\n",
       "    <tr>\n",
       "      <th>3</th>\n",
       "      <td>2013-01-04</td>\n",
       "      <td>135754.000</td>\n",
       "      <td>0.0</td>\n",
       "      <td>NaN</td>\n",
       "      <td>NaN</td>\n",
       "      <td>NaN</td>\n",
       "      <td>NaN</td>\n",
       "      <td>NaN</td>\n",
       "    </tr>\n",
       "    <tr>\n",
       "      <th>4</th>\n",
       "      <td>2013-01-05</td>\n",
       "      <td>188356.000</td>\n",
       "      <td>0.0</td>\n",
       "      <td>Work Day</td>\n",
       "      <td>National</td>\n",
       "      <td>Ecuador</td>\n",
       "      <td>Recupero puente Navidad</td>\n",
       "      <td>False</td>\n",
       "    </tr>\n",
       "    <tr>\n",
       "      <th>...</th>\n",
       "      <td>...</td>\n",
       "      <td>...</td>\n",
       "      <td>...</td>\n",
       "      <td>...</td>\n",
       "      <td>...</td>\n",
       "      <td>...</td>\n",
       "      <td>...</td>\n",
       "      <td>...</td>\n",
       "    </tr>\n",
       "    <tr>\n",
       "      <th>1713</th>\n",
       "      <td>2017-08-11</td>\n",
       "      <td>238221.922</td>\n",
       "      <td>2349.0</td>\n",
       "      <td>Transfer</td>\n",
       "      <td>National</td>\n",
       "      <td>Ecuador</td>\n",
       "      <td>Traslado Primer Grito de Independencia</td>\n",
       "      <td>False</td>\n",
       "    </tr>\n",
       "    <tr>\n",
       "      <th>1714</th>\n",
       "      <td>2017-08-12</td>\n",
       "      <td>238627.633</td>\n",
       "      <td>2325.0</td>\n",
       "      <td>NaN</td>\n",
       "      <td>NaN</td>\n",
       "      <td>NaN</td>\n",
       "      <td>NaN</td>\n",
       "      <td>NaN</td>\n",
       "    </tr>\n",
       "    <tr>\n",
       "      <th>1715</th>\n",
       "      <td>2017-08-13</td>\n",
       "      <td>258442.452</td>\n",
       "      <td>2320.0</td>\n",
       "      <td>NaN</td>\n",
       "      <td>NaN</td>\n",
       "      <td>NaN</td>\n",
       "      <td>NaN</td>\n",
       "      <td>NaN</td>\n",
       "    </tr>\n",
       "    <tr>\n",
       "      <th>1716</th>\n",
       "      <td>2017-08-14</td>\n",
       "      <td>225355.694</td>\n",
       "      <td>2335.0</td>\n",
       "      <td>NaN</td>\n",
       "      <td>NaN</td>\n",
       "      <td>NaN</td>\n",
       "      <td>NaN</td>\n",
       "      <td>NaN</td>\n",
       "    </tr>\n",
       "    <tr>\n",
       "      <th>1717</th>\n",
       "      <td>2017-08-15</td>\n",
       "      <td>224208.125</td>\n",
       "      <td>2296.0</td>\n",
       "      <td>Holiday</td>\n",
       "      <td>Local</td>\n",
       "      <td>Riobamba</td>\n",
       "      <td>Fundacion de Riobamba</td>\n",
       "      <td>False</td>\n",
       "    </tr>\n",
       "  </tbody>\n",
       "</table>\n",
       "<p>1718 rows × 8 columns</p>\n",
       "</div>"
      ],
      "text/plain": [
       "           date       sales  onpromotion      type    locale locale_name  \\\n",
       "0    2013-01-01     700.000          0.0   Holiday  National     Ecuador   \n",
       "1    2013-01-02  202020.000          0.0       NaN       NaN         NaN   \n",
       "2    2013-01-03  144878.000          0.0       NaN       NaN         NaN   \n",
       "3    2013-01-04  135754.000          0.0       NaN       NaN         NaN   \n",
       "4    2013-01-05  188356.000          0.0  Work Day  National     Ecuador   \n",
       "...         ...         ...          ...       ...       ...         ...   \n",
       "1713 2017-08-11  238221.922       2349.0  Transfer  National     Ecuador   \n",
       "1714 2017-08-12  238627.633       2325.0       NaN       NaN         NaN   \n",
       "1715 2017-08-13  258442.452       2320.0       NaN       NaN         NaN   \n",
       "1716 2017-08-14  225355.694       2335.0       NaN       NaN         NaN   \n",
       "1717 2017-08-15  224208.125       2296.0   Holiday     Local    Riobamba   \n",
       "\n",
       "                                 description transferred  \n",
       "0                         Primer dia del ano       False  \n",
       "1                                        NaN         NaN  \n",
       "2                                        NaN         NaN  \n",
       "3                                        NaN         NaN  \n",
       "4                    Recupero puente Navidad       False  \n",
       "...                                      ...         ...  \n",
       "1713  Traslado Primer Grito de Independencia       False  \n",
       "1714                                     NaN         NaN  \n",
       "1715                                     NaN         NaN  \n",
       "1716                                     NaN         NaN  \n",
       "1717                   Fundacion de Riobamba       False  \n",
       "\n",
       "[1718 rows x 8 columns]"
      ]
     },
     "execution_count": 34,
     "metadata": {},
     "output_type": "execute_result"
    }
   ],
   "source": [
    "df_train_grocery.merge(df_holiday, on='date', how='left')"
   ]
  },
  {
   "cell_type": "code",
   "execution_count": 35,
   "id": "838207b0",
   "metadata": {},
   "outputs": [
    {
     "data": {
      "text/html": [
       "<div>\n",
       "<style scoped>\n",
       "    .dataframe tbody tr th:only-of-type {\n",
       "        vertical-align: middle;\n",
       "    }\n",
       "\n",
       "    .dataframe tbody tr th {\n",
       "        vertical-align: top;\n",
       "    }\n",
       "\n",
       "    .dataframe thead th {\n",
       "        text-align: right;\n",
       "    }\n",
       "</style>\n",
       "<table border=\"1\" class=\"dataframe\">\n",
       "  <thead>\n",
       "    <tr style=\"text-align: right;\">\n",
       "      <th></th>\n",
       "      <th>date</th>\n",
       "      <th>sales</th>\n",
       "      <th>onpromotion</th>\n",
       "      <th>holiday</th>\n",
       "    </tr>\n",
       "  </thead>\n",
       "  <tbody>\n",
       "    <tr>\n",
       "      <th>0</th>\n",
       "      <td>2013-01-01</td>\n",
       "      <td>700.000</td>\n",
       "      <td>0.0</td>\n",
       "      <td>True</td>\n",
       "    </tr>\n",
       "    <tr>\n",
       "      <th>1</th>\n",
       "      <td>2013-01-02</td>\n",
       "      <td>202020.000</td>\n",
       "      <td>0.0</td>\n",
       "      <td>False</td>\n",
       "    </tr>\n",
       "    <tr>\n",
       "      <th>2</th>\n",
       "      <td>2013-01-03</td>\n",
       "      <td>144878.000</td>\n",
       "      <td>0.0</td>\n",
       "      <td>False</td>\n",
       "    </tr>\n",
       "    <tr>\n",
       "      <th>3</th>\n",
       "      <td>2013-01-04</td>\n",
       "      <td>135754.000</td>\n",
       "      <td>0.0</td>\n",
       "      <td>False</td>\n",
       "    </tr>\n",
       "    <tr>\n",
       "      <th>4</th>\n",
       "      <td>2013-01-05</td>\n",
       "      <td>188356.000</td>\n",
       "      <td>0.0</td>\n",
       "      <td>True</td>\n",
       "    </tr>\n",
       "    <tr>\n",
       "      <th>...</th>\n",
       "      <td>...</td>\n",
       "      <td>...</td>\n",
       "      <td>...</td>\n",
       "      <td>...</td>\n",
       "    </tr>\n",
       "    <tr>\n",
       "      <th>1683</th>\n",
       "      <td>2017-08-11</td>\n",
       "      <td>238221.922</td>\n",
       "      <td>2349.0</td>\n",
       "      <td>True</td>\n",
       "    </tr>\n",
       "    <tr>\n",
       "      <th>1684</th>\n",
       "      <td>2017-08-12</td>\n",
       "      <td>238627.633</td>\n",
       "      <td>2325.0</td>\n",
       "      <td>False</td>\n",
       "    </tr>\n",
       "    <tr>\n",
       "      <th>1685</th>\n",
       "      <td>2017-08-13</td>\n",
       "      <td>258442.452</td>\n",
       "      <td>2320.0</td>\n",
       "      <td>False</td>\n",
       "    </tr>\n",
       "    <tr>\n",
       "      <th>1686</th>\n",
       "      <td>2017-08-14</td>\n",
       "      <td>225355.694</td>\n",
       "      <td>2335.0</td>\n",
       "      <td>False</td>\n",
       "    </tr>\n",
       "    <tr>\n",
       "      <th>1687</th>\n",
       "      <td>2017-08-15</td>\n",
       "      <td>224208.125</td>\n",
       "      <td>2296.0</td>\n",
       "      <td>True</td>\n",
       "    </tr>\n",
       "  </tbody>\n",
       "</table>\n",
       "<p>1688 rows × 4 columns</p>\n",
       "</div>"
      ],
      "text/plain": [
       "           date       sales  onpromotion  holiday\n",
       "0    2013-01-01     700.000          0.0     True\n",
       "1    2013-01-02  202020.000          0.0    False\n",
       "2    2013-01-03  144878.000          0.0    False\n",
       "3    2013-01-04  135754.000          0.0    False\n",
       "4    2013-01-05  188356.000          0.0     True\n",
       "...         ...         ...          ...      ...\n",
       "1683 2017-08-11  238221.922       2349.0     True\n",
       "1684 2017-08-12  238627.633       2325.0    False\n",
       "1685 2017-08-13  258442.452       2320.0    False\n",
       "1686 2017-08-14  225355.694       2335.0    False\n",
       "1687 2017-08-15  224208.125       2296.0     True\n",
       "\n",
       "[1688 rows x 4 columns]"
      ]
     },
     "execution_count": 35,
     "metadata": {},
     "output_type": "execute_result"
    }
   ],
   "source": [
    "df_train_grocery['holiday'] = df_train_grocery.date.isin(df_holiday.date)\n",
    "df_train_grocery"
   ]
  },
  {
   "cell_type": "code",
   "execution_count": 36,
   "id": "f15978fb",
   "metadata": {},
   "outputs": [
    {
     "data": {
      "text/plain": [
       "False    0.848341\n",
       "True     0.151659\n",
       "Name: holiday, dtype: float64"
      ]
     },
     "execution_count": 36,
     "metadata": {},
     "output_type": "execute_result"
    }
   ],
   "source": [
    "df_train_grocery.holiday.value_counts(normalize=True)"
   ]
  },
  {
   "cell_type": "markdown",
   "id": "b669f9f9",
   "metadata": {},
   "source": [
    "### Perbandingan penjualan yang terjadi ketika libur"
   ]
  },
  {
   "cell_type": "code",
   "execution_count": 37,
   "id": "1d497f47",
   "metadata": {},
   "outputs": [],
   "source": [
    "holiday = df_train_grocery.groupby('holiday')['sales'].sum()"
   ]
  },
  {
   "cell_type": "code",
   "execution_count": 38,
   "id": "5205ac36",
   "metadata": {},
   "outputs": [
    {
     "data": {
      "image/png": "[encoded data removed]",
      "text/plain": [
       "<Figure size 720x576 with 1 Axes>"
      ]
     },
     "metadata": {},
     "output_type": "display_data"
    }
   ],
   "source": [
    "colors = sns.color_palette('pastel')\n",
    "plt.figure(figsize=(10,8))\n",
    "plt.pie(holiday, colors=colors,autopct='%.0f%%', labels=df_train_grocery.holiday.unique())\n",
    "plt.show()"
   ]
  },
  {
   "cell_type": "markdown",
   "id": "918335e6",
   "metadata": {},
   "source": [
    "`Berdasarkan hasil di atas, ternyata persentase penjualan lebih banyak terjadi ketika tidak libur.`"
   ]
  },
  {
   "cell_type": "markdown",
   "id": "efdb4686",
   "metadata": {},
   "source": [
    "## 3.3 Transactions Dataset"
   ]
  },
  {
   "cell_type": "code",
   "execution_count": 39,
   "id": "40666cfc",
   "metadata": {},
   "outputs": [
    {
     "data": {
      "text/html": [
       "<div>\n",
       "<style scoped>\n",
       "    .dataframe tbody tr th:only-of-type {\n",
       "        vertical-align: middle;\n",
       "    }\n",
       "\n",
       "    .dataframe tbody tr th {\n",
       "        vertical-align: top;\n",
       "    }\n",
       "\n",
       "    .dataframe thead th {\n",
       "        text-align: right;\n",
       "    }\n",
       "</style>\n",
       "<table border=\"1\" class=\"dataframe\">\n",
       "  <thead>\n",
       "    <tr style=\"text-align: right;\">\n",
       "      <th></th>\n",
       "      <th>date</th>\n",
       "      <th>store_nbr</th>\n",
       "      <th>transactions</th>\n",
       "    </tr>\n",
       "  </thead>\n",
       "  <tbody>\n",
       "    <tr>\n",
       "      <th>0</th>\n",
       "      <td>2013-01-01</td>\n",
       "      <td>25</td>\n",
       "      <td>770</td>\n",
       "    </tr>\n",
       "    <tr>\n",
       "      <th>1</th>\n",
       "      <td>2013-01-02</td>\n",
       "      <td>1</td>\n",
       "      <td>2111</td>\n",
       "    </tr>\n",
       "    <tr>\n",
       "      <th>2</th>\n",
       "      <td>2013-01-02</td>\n",
       "      <td>2</td>\n",
       "      <td>2358</td>\n",
       "    </tr>\n",
       "    <tr>\n",
       "      <th>3</th>\n",
       "      <td>2013-01-02</td>\n",
       "      <td>3</td>\n",
       "      <td>3487</td>\n",
       "    </tr>\n",
       "    <tr>\n",
       "      <th>4</th>\n",
       "      <td>2013-01-02</td>\n",
       "      <td>4</td>\n",
       "      <td>1922</td>\n",
       "    </tr>\n",
       "    <tr>\n",
       "      <th>...</th>\n",
       "      <td>...</td>\n",
       "      <td>...</td>\n",
       "      <td>...</td>\n",
       "    </tr>\n",
       "    <tr>\n",
       "      <th>83483</th>\n",
       "      <td>2017-08-15</td>\n",
       "      <td>50</td>\n",
       "      <td>2804</td>\n",
       "    </tr>\n",
       "    <tr>\n",
       "      <th>83484</th>\n",
       "      <td>2017-08-15</td>\n",
       "      <td>51</td>\n",
       "      <td>1573</td>\n",
       "    </tr>\n",
       "    <tr>\n",
       "      <th>83485</th>\n",
       "      <td>2017-08-15</td>\n",
       "      <td>52</td>\n",
       "      <td>2255</td>\n",
       "    </tr>\n",
       "    <tr>\n",
       "      <th>83486</th>\n",
       "      <td>2017-08-15</td>\n",
       "      <td>53</td>\n",
       "      <td>932</td>\n",
       "    </tr>\n",
       "    <tr>\n",
       "      <th>83487</th>\n",
       "      <td>2017-08-15</td>\n",
       "      <td>54</td>\n",
       "      <td>802</td>\n",
       "    </tr>\n",
       "  </tbody>\n",
       "</table>\n",
       "<p>83488 rows × 3 columns</p>\n",
       "</div>"
      ],
      "text/plain": [
       "             date  store_nbr  transactions\n",
       "0      2013-01-01         25           770\n",
       "1      2013-01-02          1          2111\n",
       "2      2013-01-02          2          2358\n",
       "3      2013-01-02          3          3487\n",
       "4      2013-01-02          4          1922\n",
       "...           ...        ...           ...\n",
       "83483  2017-08-15         50          2804\n",
       "83484  2017-08-15         51          1573\n",
       "83485  2017-08-15         52          2255\n",
       "83486  2017-08-15         53           932\n",
       "83487  2017-08-15         54           802\n",
       "\n",
       "[83488 rows x 3 columns]"
      ]
     },
     "execution_count": 39,
     "metadata": {},
     "output_type": "execute_result"
    }
   ],
   "source": [
    "df_transaction"
   ]
  },
  {
   "cell_type": "markdown",
   "id": "4afec487",
   "metadata": {},
   "source": [
    "### Data Information"
   ]
  },
  {
   "cell_type": "code",
   "execution_count": 40,
   "id": "915182dd",
   "metadata": {},
   "outputs": [
    {
     "name": "stdout",
     "output_type": "stream",
     "text": [
      "<class 'pandas.core.frame.DataFrame'>\n",
      "RangeIndex: 83488 entries, 0 to 83487\n",
      "Data columns (total 3 columns):\n",
      " #   Column        Non-Null Count  Dtype \n",
      "---  ------        --------------  ----- \n",
      " 0   date          83488 non-null  object\n",
      " 1   store_nbr     83488 non-null  int64 \n",
      " 2   transactions  83488 non-null  int64 \n",
      "dtypes: int64(2), object(1)\n",
      "memory usage: 1.9+ MB\n"
     ]
    }
   ],
   "source": [
    "df_transaction.info()"
   ]
  },
  {
   "cell_type": "code",
   "execution_count": 41,
   "id": "ad03a89f",
   "metadata": {},
   "outputs": [],
   "source": [
    "df_transaction['date'] = pd.to_datetime(df_transaction.date)"
   ]
  },
  {
   "cell_type": "markdown",
   "id": "ba991e5f",
   "metadata": {},
   "source": [
    "### Data Description"
   ]
  },
  {
   "cell_type": "code",
   "execution_count": 42,
   "id": "8e63a9f5",
   "metadata": {},
   "outputs": [
    {
     "data": {
      "text/html": [
       "<div>\n",
       "<style scoped>\n",
       "    .dataframe tbody tr th:only-of-type {\n",
       "        vertical-align: middle;\n",
       "    }\n",
       "\n",
       "    .dataframe tbody tr th {\n",
       "        vertical-align: top;\n",
       "    }\n",
       "\n",
       "    .dataframe thead th {\n",
       "        text-align: right;\n",
       "    }\n",
       "</style>\n",
       "<table border=\"1\" class=\"dataframe\">\n",
       "  <thead>\n",
       "    <tr style=\"text-align: right;\">\n",
       "      <th></th>\n",
       "      <th>store_nbr</th>\n",
       "      <th>transactions</th>\n",
       "    </tr>\n",
       "  </thead>\n",
       "  <tbody>\n",
       "    <tr>\n",
       "      <th>count</th>\n",
       "      <td>83488.000000</td>\n",
       "      <td>83488.000000</td>\n",
       "    </tr>\n",
       "    <tr>\n",
       "      <th>mean</th>\n",
       "      <td>26.939237</td>\n",
       "      <td>1694.602158</td>\n",
       "    </tr>\n",
       "    <tr>\n",
       "      <th>std</th>\n",
       "      <td>15.608204</td>\n",
       "      <td>963.286644</td>\n",
       "    </tr>\n",
       "    <tr>\n",
       "      <th>min</th>\n",
       "      <td>1.000000</td>\n",
       "      <td>5.000000</td>\n",
       "    </tr>\n",
       "    <tr>\n",
       "      <th>25%</th>\n",
       "      <td>13.000000</td>\n",
       "      <td>1046.000000</td>\n",
       "    </tr>\n",
       "    <tr>\n",
       "      <th>50%</th>\n",
       "      <td>27.000000</td>\n",
       "      <td>1393.000000</td>\n",
       "    </tr>\n",
       "    <tr>\n",
       "      <th>75%</th>\n",
       "      <td>40.000000</td>\n",
       "      <td>2079.000000</td>\n",
       "    </tr>\n",
       "    <tr>\n",
       "      <th>max</th>\n",
       "      <td>54.000000</td>\n",
       "      <td>8359.000000</td>\n",
       "    </tr>\n",
       "  </tbody>\n",
       "</table>\n",
       "</div>"
      ],
      "text/plain": [
       "          store_nbr  transactions\n",
       "count  83488.000000  83488.000000\n",
       "mean      26.939237   1694.602158\n",
       "std       15.608204    963.286644\n",
       "min        1.000000      5.000000\n",
       "25%       13.000000   1046.000000\n",
       "50%       27.000000   1393.000000\n",
       "75%       40.000000   2079.000000\n",
       "max       54.000000   8359.000000"
      ]
     },
     "execution_count": 42,
     "metadata": {},
     "output_type": "execute_result"
    }
   ],
   "source": [
    "df_transaction.describe()"
   ]
  },
  {
   "cell_type": "markdown",
   "id": "a0e4aceb",
   "metadata": {},
   "source": [
    "### Total transaksi yang terjadi setiap toko"
   ]
  },
  {
   "cell_type": "code",
   "execution_count": 43,
   "id": "193a9f7b",
   "metadata": {},
   "outputs": [],
   "source": [
    "store_transaction = df_transaction.groupby('store_nbr').transactions.sum().to_frame()"
   ]
  },
  {
   "cell_type": "code",
   "execution_count": 44,
   "id": "d664c0b6",
   "metadata": {},
   "outputs": [
    {
     "data": {
      "text/plain": [
       "Text(0.5, 1.0, 'Total transaksi yang terjadi setiap toko')"
      ]
     },
     "execution_count": 44,
     "metadata": {},
     "output_type": "execute_result"
    },
    {
     "data": {
      "image/png": "[encoded data removed]",
      "text/plain": [
       "<Figure size 1296x720 with 1 Axes>"
      ]
     },
     "metadata": {
      "needs_background": "light"
     },
     "output_type": "display_data"
    }
   ],
   "source": [
    "plt.figure(figsize=(18,10))\n",
    "sns.barplot(x=store_transaction.index, y='transactions', data=store_transaction)\n",
    "plt.title('Total transaksi yang terjadi setiap toko')"
   ]
  },
  {
   "cell_type": "markdown",
   "id": "ae77d5eb",
   "metadata": {},
   "source": [
    "`Berdasarkan hasil visualisasi di atas, ternyata, store dengan nomor 44 memiliki jumlah transaksi terbanyak, yakni sebesar 7273093, jumlah sedangkan transaksi yang paling sedikit ada pada store dengan nomor 52, yakni sebesar 275393.`"
   ]
  },
  {
   "cell_type": "markdown",
   "id": "c23a7b7d",
   "metadata": {},
   "source": [
    "### Merge dataframe"
   ]
  },
  {
   "cell_type": "code",
   "execution_count": 45,
   "id": "2d4dbfa1",
   "metadata": {},
   "outputs": [
    {
     "data": {
      "text/html": [
       "<div>\n",
       "<style scoped>\n",
       "    .dataframe tbody tr th:only-of-type {\n",
       "        vertical-align: middle;\n",
       "    }\n",
       "\n",
       "    .dataframe tbody tr th {\n",
       "        vertical-align: top;\n",
       "    }\n",
       "\n",
       "    .dataframe thead th {\n",
       "        text-align: right;\n",
       "    }\n",
       "</style>\n",
       "<table border=\"1\" class=\"dataframe\">\n",
       "  <thead>\n",
       "    <tr style=\"text-align: right;\">\n",
       "      <th></th>\n",
       "      <th>date</th>\n",
       "      <th>sales</th>\n",
       "      <th>onpromotion</th>\n",
       "      <th>holiday</th>\n",
       "      <th>transactions</th>\n",
       "    </tr>\n",
       "  </thead>\n",
       "  <tbody>\n",
       "    <tr>\n",
       "      <th>0</th>\n",
       "      <td>2013-01-01</td>\n",
       "      <td>700.0</td>\n",
       "      <td>0.0</td>\n",
       "      <td>True</td>\n",
       "      <td>770.0</td>\n",
       "    </tr>\n",
       "    <tr>\n",
       "      <th>1</th>\n",
       "      <td>2013-01-02</td>\n",
       "      <td>202020.0</td>\n",
       "      <td>0.0</td>\n",
       "      <td>False</td>\n",
       "      <td>93215.0</td>\n",
       "    </tr>\n",
       "    <tr>\n",
       "      <th>2</th>\n",
       "      <td>2013-01-03</td>\n",
       "      <td>144878.0</td>\n",
       "      <td>0.0</td>\n",
       "      <td>False</td>\n",
       "      <td>78504.0</td>\n",
       "    </tr>\n",
       "    <tr>\n",
       "      <th>3</th>\n",
       "      <td>2013-01-04</td>\n",
       "      <td>135754.0</td>\n",
       "      <td>0.0</td>\n",
       "      <td>False</td>\n",
       "      <td>78494.0</td>\n",
       "    </tr>\n",
       "    <tr>\n",
       "      <th>4</th>\n",
       "      <td>2013-01-05</td>\n",
       "      <td>188356.0</td>\n",
       "      <td>0.0</td>\n",
       "      <td>True</td>\n",
       "      <td>93573.0</td>\n",
       "    </tr>\n",
       "  </tbody>\n",
       "</table>\n",
       "</div>"
      ],
      "text/plain": [
       "        date     sales  onpromotion  holiday  transactions\n",
       "0 2013-01-01     700.0          0.0     True         770.0\n",
       "1 2013-01-02  202020.0          0.0    False       93215.0\n",
       "2 2013-01-03  144878.0          0.0    False       78504.0\n",
       "3 2013-01-04  135754.0          0.0    False       78494.0\n",
       "4 2013-01-05  188356.0          0.0     True       93573.0"
      ]
     },
     "execution_count": 45,
     "metadata": {},
     "output_type": "execute_result"
    }
   ],
   "source": [
    "df_transaction = df_transaction.groupby('date')['transactions'].sum().reset_index()\n",
    "df_train_grocery= df_train_grocery.merge(df_transaction, on='date', how='left')\n",
    "df_train_grocery.head()"
   ]
  },
  {
   "cell_type": "code",
   "execution_count": 46,
   "id": "6ecc1ee1",
   "metadata": {},
   "outputs": [
    {
     "name": "stdout",
     "output_type": "stream",
     "text": [
      "<class 'pandas.core.frame.DataFrame'>\n",
      "Int64Index: 1688 entries, 0 to 1687\n",
      "Data columns (total 5 columns):\n",
      " #   Column        Non-Null Count  Dtype         \n",
      "---  ------        --------------  -----         \n",
      " 0   date          1688 non-null   datetime64[ns]\n",
      " 1   sales         1688 non-null   float64       \n",
      " 2   onpromotion   1688 non-null   float64       \n",
      " 3   holiday       1688 non-null   bool          \n",
      " 4   transactions  1682 non-null   float64       \n",
      "dtypes: bool(1), datetime64[ns](1), float64(3)\n",
      "memory usage: 67.6 KB\n"
     ]
    }
   ],
   "source": [
    "df_train_grocery.info()"
   ]
  },
  {
   "cell_type": "code",
   "execution_count": 47,
   "id": "823d81f9",
   "metadata": {},
   "outputs": [],
   "source": [
    "date = df_train_grocery.date.dt"
   ]
  },
  {
   "cell_type": "code",
   "execution_count": 48,
   "id": "f13af240",
   "metadata": {},
   "outputs": [
    {
     "data": {
      "text/html": [
       "<div>\n",
       "<style scoped>\n",
       "    .dataframe tbody tr th:only-of-type {\n",
       "        vertical-align: middle;\n",
       "    }\n",
       "\n",
       "    .dataframe tbody tr th {\n",
       "        vertical-align: top;\n",
       "    }\n",
       "\n",
       "    .dataframe thead th {\n",
       "        text-align: right;\n",
       "    }\n",
       "</style>\n",
       "<table border=\"1\" class=\"dataframe\">\n",
       "  <thead>\n",
       "    <tr style=\"text-align: right;\">\n",
       "      <th></th>\n",
       "      <th>date</th>\n",
       "      <th>sales</th>\n",
       "      <th>onpromotion</th>\n",
       "      <th>holiday</th>\n",
       "      <th>transactions</th>\n",
       "    </tr>\n",
       "  </thead>\n",
       "  <tbody>\n",
       "    <tr>\n",
       "      <th>358</th>\n",
       "      <td>2013-12-25</td>\n",
       "      <td>0.000</td>\n",
       "      <td>0.0</td>\n",
       "      <td>True</td>\n",
       "      <td>NaN</td>\n",
       "    </tr>\n",
       "    <tr>\n",
       "      <th>723</th>\n",
       "      <td>2014-12-25</td>\n",
       "      <td>0.000</td>\n",
       "      <td>0.0</td>\n",
       "      <td>True</td>\n",
       "      <td>NaN</td>\n",
       "    </tr>\n",
       "    <tr>\n",
       "      <th>1088</th>\n",
       "      <td>2015-12-25</td>\n",
       "      <td>0.000</td>\n",
       "      <td>0.0</td>\n",
       "      <td>True</td>\n",
       "      <td>NaN</td>\n",
       "    </tr>\n",
       "    <tr>\n",
       "      <th>1095</th>\n",
       "      <td>2016-01-01</td>\n",
       "      <td>3247.000</td>\n",
       "      <td>4.0</td>\n",
       "      <td>True</td>\n",
       "      <td>NaN</td>\n",
       "    </tr>\n",
       "    <tr>\n",
       "      <th>1097</th>\n",
       "      <td>2016-01-03</td>\n",
       "      <td>347681.912</td>\n",
       "      <td>589.0</td>\n",
       "      <td>False</td>\n",
       "      <td>NaN</td>\n",
       "    </tr>\n",
       "    <tr>\n",
       "      <th>1454</th>\n",
       "      <td>2016-12-25</td>\n",
       "      <td>0.000</td>\n",
       "      <td>0.0</td>\n",
       "      <td>True</td>\n",
       "      <td>NaN</td>\n",
       "    </tr>\n",
       "  </tbody>\n",
       "</table>\n",
       "</div>"
      ],
      "text/plain": [
       "           date       sales  onpromotion  holiday  transactions\n",
       "358  2013-12-25       0.000          0.0     True           NaN\n",
       "723  2014-12-25       0.000          0.0     True           NaN\n",
       "1088 2015-12-25       0.000          0.0     True           NaN\n",
       "1095 2016-01-01    3247.000          4.0     True           NaN\n",
       "1097 2016-01-03  347681.912        589.0    False           NaN\n",
       "1454 2016-12-25       0.000          0.0     True           NaN"
      ]
     },
     "execution_count": 48,
     "metadata": {},
     "output_type": "execute_result"
    }
   ],
   "source": [
    "df_train_grocery[df_train_grocery.transactions.isnull()]"
   ]
  },
  {
   "cell_type": "markdown",
   "id": "344a3ccd",
   "metadata": {},
   "source": [
    "```\n",
    "Terdapat beberapa nilai missing value pada kolom 'transactions' terhadap tanggal tertentu. Untuk itu, saya akan mengimpute nilai missing value tersebut dengan beberapa metode sesuai dengan kondisi:\n",
    "2013-12-25 ==> Hari raya Natal ==> impute dengan nilai 0\n",
    "2014-12-25 ==> Hari raya Natal ==> impute dengan nilai 0\n",
    "2015-12-25 ==> Hari raya Natal ==> impute dengan nilai 0\n",
    "2016-12-25 ==> Hari raya Natal ==> impute dengan nilai 0\n",
    "2016-01-01 ==> Libur awal tahun ==> impute dengan nilai 0\n",
    "```"
   ]
  },
  {
   "cell_type": "code",
   "execution_count": 49,
   "id": "3cfca602",
   "metadata": {},
   "outputs": [],
   "source": [
    "df_train_grocery[date.day == 25] = df_train_grocery[date.day == 25].fillna(0)\n",
    "df_train_grocery[date.day == 1] = df_train_grocery[date.day == 1].fillna(0)"
   ]
  },
  {
   "cell_type": "code",
   "execution_count": 50,
   "id": "21e6a68e",
   "metadata": {},
   "outputs": [
    {
     "data": {
      "text/html": [
       "<div>\n",
       "<style scoped>\n",
       "    .dataframe tbody tr th:only-of-type {\n",
       "        vertical-align: middle;\n",
       "    }\n",
       "\n",
       "    .dataframe tbody tr th {\n",
       "        vertical-align: top;\n",
       "    }\n",
       "\n",
       "    .dataframe thead th {\n",
       "        text-align: right;\n",
       "    }\n",
       "</style>\n",
       "<table border=\"1\" class=\"dataframe\">\n",
       "  <thead>\n",
       "    <tr style=\"text-align: right;\">\n",
       "      <th></th>\n",
       "      <th>date</th>\n",
       "      <th>sales</th>\n",
       "      <th>onpromotion</th>\n",
       "      <th>holiday</th>\n",
       "      <th>transactions</th>\n",
       "    </tr>\n",
       "  </thead>\n",
       "  <tbody>\n",
       "    <tr>\n",
       "      <th>1097</th>\n",
       "      <td>2016-01-03</td>\n",
       "      <td>347681.912</td>\n",
       "      <td>589.0</td>\n",
       "      <td>False</td>\n",
       "      <td>NaN</td>\n",
       "    </tr>\n",
       "  </tbody>\n",
       "</table>\n",
       "</div>"
      ],
      "text/plain": [
       "           date       sales  onpromotion  holiday  transactions\n",
       "1097 2016-01-03  347681.912        589.0    False           NaN"
      ]
     },
     "execution_count": 50,
     "metadata": {},
     "output_type": "execute_result"
    }
   ],
   "source": [
    "df_train_grocery[df_train_grocery.transactions.isnull()]"
   ]
  },
  {
   "cell_type": "markdown",
   "id": "c0cb9397",
   "metadata": {},
   "source": [
    "`Ternyata, masih terdapat missing value pada kolom 'transactions' pada tanggal '2016-01-03'. Untuk mengisi missing value tersebut, maka saya akan menganalisis datanya terlebih dahulu.`"
   ]
  },
  {
   "cell_type": "code",
   "execution_count": 51,
   "id": "b16283bb",
   "metadata": {},
   "outputs": [
    {
     "data": {
      "text/html": [
       "<div>\n",
       "<style scoped>\n",
       "    .dataframe tbody tr th:only-of-type {\n",
       "        vertical-align: middle;\n",
       "    }\n",
       "\n",
       "    .dataframe tbody tr th {\n",
       "        vertical-align: top;\n",
       "    }\n",
       "\n",
       "    .dataframe thead th {\n",
       "        text-align: right;\n",
       "    }\n",
       "</style>\n",
       "<table border=\"1\" class=\"dataframe\">\n",
       "  <thead>\n",
       "    <tr style=\"text-align: right;\">\n",
       "      <th></th>\n",
       "      <th>date</th>\n",
       "      <th>sales</th>\n",
       "      <th>onpromotion</th>\n",
       "      <th>holiday</th>\n",
       "      <th>transactions</th>\n",
       "    </tr>\n",
       "  </thead>\n",
       "  <tbody>\n",
       "    <tr>\n",
       "      <th>1095</th>\n",
       "      <td>2016-01-01</td>\n",
       "      <td>3247.000</td>\n",
       "      <td>4.0</td>\n",
       "      <td>True</td>\n",
       "      <td>0.0</td>\n",
       "    </tr>\n",
       "    <tr>\n",
       "      <th>1096</th>\n",
       "      <td>2016-01-02</td>\n",
       "      <td>309417.194</td>\n",
       "      <td>474.0</td>\n",
       "      <td>False</td>\n",
       "      <td>69628.0</td>\n",
       "    </tr>\n",
       "    <tr>\n",
       "      <th>1097</th>\n",
       "      <td>2016-01-03</td>\n",
       "      <td>347681.912</td>\n",
       "      <td>589.0</td>\n",
       "      <td>False</td>\n",
       "      <td>NaN</td>\n",
       "    </tr>\n",
       "    <tr>\n",
       "      <th>1098</th>\n",
       "      <td>2016-01-04</td>\n",
       "      <td>272978.806</td>\n",
       "      <td>512.0</td>\n",
       "      <td>False</td>\n",
       "      <td>17829.0</td>\n",
       "    </tr>\n",
       "    <tr>\n",
       "      <th>1099</th>\n",
       "      <td>2016-01-05</td>\n",
       "      <td>234212.722</td>\n",
       "      <td>491.0</td>\n",
       "      <td>False</td>\n",
       "      <td>89018.0</td>\n",
       "    </tr>\n",
       "    <tr>\n",
       "      <th>1100</th>\n",
       "      <td>2016-01-06</td>\n",
       "      <td>220632.777</td>\n",
       "      <td>548.0</td>\n",
       "      <td>False</td>\n",
       "      <td>88846.0</td>\n",
       "    </tr>\n",
       "    <tr>\n",
       "      <th>1101</th>\n",
       "      <td>2016-01-07</td>\n",
       "      <td>183343.476</td>\n",
       "      <td>595.0</td>\n",
       "      <td>False</td>\n",
       "      <td>80412.0</td>\n",
       "    </tr>\n",
       "    <tr>\n",
       "      <th>1102</th>\n",
       "      <td>2016-01-08</td>\n",
       "      <td>194604.367</td>\n",
       "      <td>438.0</td>\n",
       "      <td>False</td>\n",
       "      <td>83344.0</td>\n",
       "    </tr>\n",
       "    <tr>\n",
       "      <th>1103</th>\n",
       "      <td>2016-01-09</td>\n",
       "      <td>277982.051</td>\n",
       "      <td>489.0</td>\n",
       "      <td>False</td>\n",
       "      <td>100975.0</td>\n",
       "    </tr>\n",
       "    <tr>\n",
       "      <th>1104</th>\n",
       "      <td>2016-01-10</td>\n",
       "      <td>310926.818</td>\n",
       "      <td>456.0</td>\n",
       "      <td>False</td>\n",
       "      <td>97323.0</td>\n",
       "    </tr>\n",
       "    <tr>\n",
       "      <th>1105</th>\n",
       "      <td>2016-01-11</td>\n",
       "      <td>201072.649</td>\n",
       "      <td>375.0</td>\n",
       "      <td>False</td>\n",
       "      <td>80506.0</td>\n",
       "    </tr>\n",
       "    <tr>\n",
       "      <th>1106</th>\n",
       "      <td>2016-01-12</td>\n",
       "      <td>181032.288</td>\n",
       "      <td>379.0</td>\n",
       "      <td>False</td>\n",
       "      <td>77696.0</td>\n",
       "    </tr>\n",
       "    <tr>\n",
       "      <th>1107</th>\n",
       "      <td>2016-01-13</td>\n",
       "      <td>174299.275</td>\n",
       "      <td>407.0</td>\n",
       "      <td>False</td>\n",
       "      <td>76217.0</td>\n",
       "    </tr>\n",
       "    <tr>\n",
       "      <th>1108</th>\n",
       "      <td>2016-01-14</td>\n",
       "      <td>156517.984</td>\n",
       "      <td>518.0</td>\n",
       "      <td>False</td>\n",
       "      <td>74909.0</td>\n",
       "    </tr>\n",
       "    <tr>\n",
       "      <th>1109</th>\n",
       "      <td>2016-01-15</td>\n",
       "      <td>179900.482</td>\n",
       "      <td>626.0</td>\n",
       "      <td>False</td>\n",
       "      <td>83105.0</td>\n",
       "    </tr>\n",
       "    <tr>\n",
       "      <th>1110</th>\n",
       "      <td>2016-01-16</td>\n",
       "      <td>262108.866</td>\n",
       "      <td>663.0</td>\n",
       "      <td>False</td>\n",
       "      <td>99698.0</td>\n",
       "    </tr>\n",
       "    <tr>\n",
       "      <th>1111</th>\n",
       "      <td>2016-01-17</td>\n",
       "      <td>296780.623</td>\n",
       "      <td>597.0</td>\n",
       "      <td>False</td>\n",
       "      <td>95155.0</td>\n",
       "    </tr>\n",
       "    <tr>\n",
       "      <th>1112</th>\n",
       "      <td>2016-01-18</td>\n",
       "      <td>199216.618</td>\n",
       "      <td>671.0</td>\n",
       "      <td>False</td>\n",
       "      <td>81486.0</td>\n",
       "    </tr>\n",
       "    <tr>\n",
       "      <th>1113</th>\n",
       "      <td>2016-01-19</td>\n",
       "      <td>176148.616</td>\n",
       "      <td>862.0</td>\n",
       "      <td>False</td>\n",
       "      <td>76092.0</td>\n",
       "    </tr>\n",
       "    <tr>\n",
       "      <th>1114</th>\n",
       "      <td>2016-01-20</td>\n",
       "      <td>202818.498</td>\n",
       "      <td>1138.0</td>\n",
       "      <td>False</td>\n",
       "      <td>82989.0</td>\n",
       "    </tr>\n",
       "    <tr>\n",
       "      <th>1115</th>\n",
       "      <td>2016-01-21</td>\n",
       "      <td>154029.367</td>\n",
       "      <td>173.0</td>\n",
       "      <td>False</td>\n",
       "      <td>74141.0</td>\n",
       "    </tr>\n",
       "    <tr>\n",
       "      <th>1116</th>\n",
       "      <td>2016-01-22</td>\n",
       "      <td>171250.134</td>\n",
       "      <td>155.0</td>\n",
       "      <td>False</td>\n",
       "      <td>79760.0</td>\n",
       "    </tr>\n",
       "    <tr>\n",
       "      <th>1117</th>\n",
       "      <td>2016-01-23</td>\n",
       "      <td>250648.181</td>\n",
       "      <td>143.0</td>\n",
       "      <td>False</td>\n",
       "      <td>95634.0</td>\n",
       "    </tr>\n",
       "    <tr>\n",
       "      <th>1118</th>\n",
       "      <td>2016-01-24</td>\n",
       "      <td>269822.866</td>\n",
       "      <td>182.0</td>\n",
       "      <td>False</td>\n",
       "      <td>89786.0</td>\n",
       "    </tr>\n",
       "    <tr>\n",
       "      <th>1119</th>\n",
       "      <td>2016-01-25</td>\n",
       "      <td>183926.533</td>\n",
       "      <td>148.0</td>\n",
       "      <td>False</td>\n",
       "      <td>76042.0</td>\n",
       "    </tr>\n",
       "    <tr>\n",
       "      <th>1120</th>\n",
       "      <td>2016-01-26</td>\n",
       "      <td>167851.858</td>\n",
       "      <td>150.0</td>\n",
       "      <td>False</td>\n",
       "      <td>75639.0</td>\n",
       "    </tr>\n",
       "    <tr>\n",
       "      <th>1121</th>\n",
       "      <td>2016-01-27</td>\n",
       "      <td>167202.089</td>\n",
       "      <td>141.0</td>\n",
       "      <td>False</td>\n",
       "      <td>76912.0</td>\n",
       "    </tr>\n",
       "    <tr>\n",
       "      <th>1122</th>\n",
       "      <td>2016-01-28</td>\n",
       "      <td>147342.729</td>\n",
       "      <td>1092.0</td>\n",
       "      <td>False</td>\n",
       "      <td>73110.0</td>\n",
       "    </tr>\n",
       "    <tr>\n",
       "      <th>1123</th>\n",
       "      <td>2016-01-29</td>\n",
       "      <td>182896.504</td>\n",
       "      <td>1205.0</td>\n",
       "      <td>False</td>\n",
       "      <td>81081.0</td>\n",
       "    </tr>\n",
       "    <tr>\n",
       "      <th>1124</th>\n",
       "      <td>2016-01-30</td>\n",
       "      <td>282682.646</td>\n",
       "      <td>1240.0</td>\n",
       "      <td>False</td>\n",
       "      <td>98201.0</td>\n",
       "    </tr>\n",
       "    <tr>\n",
       "      <th>1125</th>\n",
       "      <td>2016-01-31</td>\n",
       "      <td>316827.105</td>\n",
       "      <td>1226.0</td>\n",
       "      <td>False</td>\n",
       "      <td>95671.0</td>\n",
       "    </tr>\n",
       "  </tbody>\n",
       "</table>\n",
       "</div>"
      ],
      "text/plain": [
       "           date       sales  onpromotion  holiday  transactions\n",
       "1095 2016-01-01    3247.000          4.0     True           0.0\n",
       "1096 2016-01-02  309417.194        474.0    False       69628.0\n",
       "1097 2016-01-03  347681.912        589.0    False           NaN\n",
       "1098 2016-01-04  272978.806        512.0    False       17829.0\n",
       "1099 2016-01-05  234212.722        491.0    False       89018.0\n",
       "1100 2016-01-06  220632.777        548.0    False       88846.0\n",
       "1101 2016-01-07  183343.476        595.0    False       80412.0\n",
       "1102 2016-01-08  194604.367        438.0    False       83344.0\n",
       "1103 2016-01-09  277982.051        489.0    False      100975.0\n",
       "1104 2016-01-10  310926.818        456.0    False       97323.0\n",
       "1105 2016-01-11  201072.649        375.0    False       80506.0\n",
       "1106 2016-01-12  181032.288        379.0    False       77696.0\n",
       "1107 2016-01-13  174299.275        407.0    False       76217.0\n",
       "1108 2016-01-14  156517.984        518.0    False       74909.0\n",
       "1109 2016-01-15  179900.482        626.0    False       83105.0\n",
       "1110 2016-01-16  262108.866        663.0    False       99698.0\n",
       "1111 2016-01-17  296780.623        597.0    False       95155.0\n",
       "1112 2016-01-18  199216.618        671.0    False       81486.0\n",
       "1113 2016-01-19  176148.616        862.0    False       76092.0\n",
       "1114 2016-01-20  202818.498       1138.0    False       82989.0\n",
       "1115 2016-01-21  154029.367        173.0    False       74141.0\n",
       "1116 2016-01-22  171250.134        155.0    False       79760.0\n",
       "1117 2016-01-23  250648.181        143.0    False       95634.0\n",
       "1118 2016-01-24  269822.866        182.0    False       89786.0\n",
       "1119 2016-01-25  183926.533        148.0    False       76042.0\n",
       "1120 2016-01-26  167851.858        150.0    False       75639.0\n",
       "1121 2016-01-27  167202.089        141.0    False       76912.0\n",
       "1122 2016-01-28  147342.729       1092.0    False       73110.0\n",
       "1123 2016-01-29  182896.504       1205.0    False       81081.0\n",
       "1124 2016-01-30  282682.646       1240.0    False       98201.0\n",
       "1125 2016-01-31  316827.105       1226.0    False       95671.0"
      ]
     },
     "execution_count": 51,
     "metadata": {},
     "output_type": "execute_result"
    }
   ],
   "source": [
    "df_train_grocery[(date.year==2016) & (date.month==1)]"
   ]
  },
  {
   "cell_type": "code",
   "execution_count": 52,
   "id": "5955a972",
   "metadata": {},
   "outputs": [
    {
     "data": {
      "text/plain": [
       "79040.16666666667"
      ]
     },
     "execution_count": 52,
     "metadata": {},
     "output_type": "execute_result"
    }
   ],
   "source": [
    "mean_value = df_train_grocery.transactions[(date.year==2016) & (date.month==1)].mean()\n",
    "mean_value"
   ]
  },
  {
   "cell_type": "code",
   "execution_count": 53,
   "id": "e00d74ad",
   "metadata": {},
   "outputs": [],
   "source": [
    "df_train_grocery.transactions.fillna(mean_value, inplace=True)"
   ]
  },
  {
   "cell_type": "markdown",
   "id": "9277faab",
   "metadata": {},
   "source": [
    "`Jika dilihat dari aktifitas pada bulan januari 2016, saat tanggal 2 januari 2016 toko memiliki total promosi 474 dengan total transaksi sebesar 69628. Saya rasa masuk akal jika pada tanggal 3 januari 2016 dengan total promosi 589 nilai transaksinya diisi dengan rata-rata transaksi yang terjadi pada tahun 2016, yakni sebesar 79040.16`"
   ]
  },
  {
   "cell_type": "code",
   "execution_count": 54,
   "id": "801c3bc4",
   "metadata": {},
   "outputs": [
    {
     "name": "stdout",
     "output_type": "stream",
     "text": [
      "<class 'pandas.core.frame.DataFrame'>\n",
      "Int64Index: 1688 entries, 0 to 1687\n",
      "Data columns (total 5 columns):\n",
      " #   Column        Non-Null Count  Dtype         \n",
      "---  ------        --------------  -----         \n",
      " 0   date          1688 non-null   datetime64[ns]\n",
      " 1   sales         1688 non-null   float64       \n",
      " 2   onpromotion   1688 non-null   float64       \n",
      " 3   holiday       1688 non-null   bool          \n",
      " 4   transactions  1688 non-null   float64       \n",
      "dtypes: bool(1), datetime64[ns](1), float64(3)\n",
      "memory usage: 67.6 KB\n"
     ]
    }
   ],
   "source": [
    "df_train_grocery.info()"
   ]
  },
  {
   "cell_type": "markdown",
   "id": "9a1e8397",
   "metadata": {},
   "source": [
    "`Missing Value sudah diisi dengan baik.`"
   ]
  },
  {
   "cell_type": "markdown",
   "id": "d064040a",
   "metadata": {},
   "source": [
    "### Total transaksi toko grosir perminggu"
   ]
  },
  {
   "cell_type": "code",
   "execution_count": 55,
   "id": "22d9f9a5",
   "metadata": {},
   "outputs": [],
   "source": [
    "week_transaction = df_train_grocery.groupby(date.isocalendar().week)['transactions'].sum().to_frame()"
   ]
  },
  {
   "cell_type": "code",
   "execution_count": 56,
   "id": "73001844",
   "metadata": {},
   "outputs": [
    {
     "data": {
      "image/png": "[encoded data removed]",
      "text/plain": [
       "<Figure size 1080x576 with 1 Axes>"
      ]
     },
     "metadata": {
      "needs_background": "light"
     },
     "output_type": "display_data"
    }
   ],
   "source": [
    "plt.figure(figsize=(15,8))\n",
    "sns.barplot(x=week_transaction.index, y='transactions', data=week_transaction)\n",
    "plt.title('Total Transaksi Perminggu');"
   ]
  },
  {
   "cell_type": "markdown",
   "id": "89484c80",
   "metadata": {},
   "source": [
    "`Seperti yang bisa kita lihat, aktifitas yang terjadi pada toko groosir di minggu ke-53 merupakan minggu yang memiliki total transaksi paling rendah.`"
   ]
  },
  {
   "cell_type": "markdown",
   "id": "81fba26e",
   "metadata": {},
   "source": [
    "### Total transaksi toko grosir perbulan"
   ]
  },
  {
   "cell_type": "code",
   "execution_count": 57,
   "id": "850cda16",
   "metadata": {},
   "outputs": [],
   "source": [
    "month_transaction = df_train_grocery.groupby(date.month)['transactions'].sum().to_frame()"
   ]
  },
  {
   "cell_type": "code",
   "execution_count": 58,
   "id": "9ddd44da",
   "metadata": {},
   "outputs": [
    {
     "data": {
      "text/plain": [
       "Text(0.5, 0, 'Month')"
      ]
     },
     "execution_count": 58,
     "metadata": {},
     "output_type": "execute_result"
    },
    {
     "data": {
      "image/png": "[encoded data removed]",
      "text/plain": [
       "<Figure size 1080x576 with 1 Axes>"
      ]
     },
     "metadata": {
      "needs_background": "light"
     },
     "output_type": "display_data"
    }
   ],
   "source": [
    "plt.figure(figsize=(15,8))\n",
    "sns.barplot(x=month_transaction.index, y='transactions', data=month_transaction)\n",
    "plt.title('Total Transaksi Perbulan')\n",
    "plt.xlabel('Month')"
   ]
  },
  {
   "cell_type": "markdown",
   "id": "b7e957a3",
   "metadata": {},
   "source": [
    "`Bisa dilihat dari hasil visualisasi di atas, total transaksi pada toko grosir cukup fluktuasi yang mana sempat terjadi penurunan yang drastis pada bulan september, namun meningkat pesat saat bulan desember. Hal ini mungkin customer membeli barang untuk menyambut akhir tahun.`"
   ]
  },
  {
   "cell_type": "markdown",
   "id": "6cd1bf29",
   "metadata": {},
   "source": [
    "### Total transaksi toko pertahun"
   ]
  },
  {
   "cell_type": "code",
   "execution_count": 59,
   "id": "56d89bc2",
   "metadata": {},
   "outputs": [],
   "source": [
    "year_transaction = df_train_grocery.groupby(date.year)['transactions'].sum().to_frame()"
   ]
  },
  {
   "cell_type": "code",
   "execution_count": 60,
   "id": "fd03551f",
   "metadata": {},
   "outputs": [
    {
     "data": {
      "image/png": "[encoded data removed]",
      "text/plain": [
       "<Figure size 720x576 with 1 Axes>"
      ]
     },
     "metadata": {
      "needs_background": "light"
     },
     "output_type": "display_data"
    }
   ],
   "source": [
    "plt.figure(figsize=(10,8))\n",
    "sns.barplot(x=year_transaction.index, y='transactions', data=year_transaction)\n",
    "plt.title('Total Transaksi Pertahun');"
   ]
  },
  {
   "cell_type": "markdown",
   "id": "98ac4755",
   "metadata": {},
   "source": [
    "`Berdasarkan dari hasil visualisasi di atas, total transaksi cenderung meningkat untuk setiap tahunnya, tapi sempat terjadi penurunan di tahun 2017.`"
   ]
  },
  {
   "cell_type": "markdown",
   "id": "f398d47c",
   "metadata": {},
   "source": [
    "## Correlation Matrix"
   ]
  },
  {
   "cell_type": "code",
   "execution_count": 61,
   "id": "c09df81b",
   "metadata": {},
   "outputs": [],
   "source": [
    "from jcopml.plot import plot_correlation_matrix, plot_association_matrix"
   ]
  },
  {
   "cell_type": "code",
   "execution_count": 62,
   "id": "04acdf2d",
   "metadata": {},
   "outputs": [
    {
     "data": {
      "application/vnd.jupyter.widget-view+json": {
       "model_id": "f7884a39613f4d98a1359e496d896762",
       "version_major": 2,
       "version_minor": 0
      },
      "text/plain": [
       "interactive(children=(ToggleButtons(description='method', options=('spearman', 'kendall', 'pearson', 'pearson_…"
      ]
     },
     "metadata": {},
     "output_type": "display_data"
    }
   ],
   "source": [
    "plot_correlation_matrix(df_train_grocery,target_col='sales', numeric_col= ['onpromotion', 'transactions'])"
   ]
  },
  {
   "attachments": {
    "image.png": {
     "image/png": "[encoded data removed]"
    }
   },
   "cell_type": "markdown",
   "id": "445936e2",
   "metadata": {},
   "source": [
    "![image.png](attachment:image.png)\n",
    "\n",
    "`Karena github tidak bisa menampilkan visualisasi ini, maka saya sudah crop gambarnya untuk menampilkan hasilnya.`\n",
    "\n",
    "Dapat dilihat, ternyata jumlah transaksi dan jumlah promosi sangat berpengaruh pada harga jual suatu barang."
   ]
  },
  {
   "cell_type": "markdown",
   "id": "a215d517",
   "metadata": {},
   "source": [
    "# 5. Dataset Splitting"
   ]
  },
  {
   "cell_type": "code",
   "execution_count": 63,
   "id": "010c8919",
   "metadata": {},
   "outputs": [],
   "source": [
    "df_train_grocery.set_index('date', inplace=True)"
   ]
  },
  {
   "cell_type": "code",
   "execution_count": 64,
   "id": "45ed6deb",
   "metadata": {},
   "outputs": [],
   "source": [
    "df_train_grocery['holiday'] = df_train_grocery.holiday.replace({True: 1, False: 0})"
   ]
  },
  {
   "cell_type": "code",
   "execution_count": 65,
   "id": "7b637aee",
   "metadata": {},
   "outputs": [
    {
     "data": {
      "text/plain": [
       "((1350, 3), (338, 3), (1350,), (338,))"
      ]
     },
     "execution_count": 65,
     "metadata": {},
     "output_type": "execute_result"
    }
   ],
   "source": [
    "X = df_train_grocery.drop(columns=\"sales\")\n",
    "y = df_train_grocery.sales\n",
    "\n",
    "X_train, X_test, y_train, y_test = train_test_split(X, y, test_size=0.2, random_state=42)\n",
    "X_train.shape, X_test.shape, y_train.shape, y_test.shape"
   ]
  },
  {
   "cell_type": "markdown",
   "id": "331629e3",
   "metadata": {},
   "source": [
    "# 6. Training Model"
   ]
  },
  {
   "cell_type": "code",
   "execution_count": 66,
   "id": "8ea5bdb3",
   "metadata": {},
   "outputs": [],
   "source": [
    "from xgboost import XGBRegressor\n",
    "from sklearn.model_selection import RandomizedSearchCV\n",
    "from jcopml.tuning import random_search_params as rsp\n",
    "from jcopml.plot import plot_residual\n",
    "from sklearn.metrics import mean_absolute_error, mean_squared_error, r2_score"
   ]
  },
  {
   "cell_type": "code",
   "execution_count": 67,
   "id": "f6bdb1a1",
   "metadata": {},
   "outputs": [
    {
     "name": "stdout",
     "output_type": "stream",
     "text": [
      "Fitting 3 folds for each of 200 candidates, totalling 600 fits\n",
      "{'algo__colsample_bytree': 0.6231143992803511, 'algo__gamma': 4, 'algo__learning_rate': 0.04378086968092174, 'algo__max_depth': 3, 'algo__n_estimators': 132, 'algo__reg_alpha': 0.029986234021915126, 'algo__reg_lambda': 0.06562538871860242, 'algo__subsample': 0.5743015589690766}\n",
      "0.8664570796840303 0.8178254557597442 0.8491187740780965\n"
     ]
    }
   ],
   "source": [
    "preprocessor = ColumnTransformer([\n",
    "    ('numeric', num_pipe(), [\"onpromotion\", 'transactions']),\n",
    "    ('categoric', cat_pipe(encoder='onehot'), [\"holiday\"]),\n",
    "])\n",
    "\n",
    "\n",
    "pipeline = Pipeline([\n",
    "    ('prep', preprocessor),\n",
    "    ('algo', XGBRegressor(n_jobs=-1, random_state=42))\n",
    "])\n",
    " \n",
    "    \n",
    "model = RandomizedSearchCV(pipeline, rsp.xgb_params, cv=3, scoring='r2', n_iter=200, n_jobs=-1, verbose=1, random_state=42)\n",
    "model.fit(X_train, y_train)\n",
    "\n",
    "print(model.best_params_)\n",
    "print(model.score(X_train, y_train), model.best_score_, model.score(X_test, y_test))"
   ]
  },
  {
   "cell_type": "markdown",
   "id": "0b0ccf06",
   "metadata": {},
   "source": [
    "## 6.1 Polynomial Feature"
   ]
  },
  {
   "cell_type": "code",
   "execution_count": 68,
   "id": "8c78a8cc",
   "metadata": {},
   "outputs": [
    {
     "name": "stdout",
     "output_type": "stream",
     "text": [
      "Fitting 3 folds for each of 200 candidates, totalling 600 fits\n",
      "{'algo__colsample_bytree': 0.8136604851450685, 'algo__gamma': 7, 'algo__learning_rate': 0.03578125709488761, 'algo__max_depth': 3, 'algo__n_estimators': 157, 'algo__reg_alpha': 4.46121734930277, 'algo__reg_lambda': 0.006960633318526379, 'algo__subsample': 0.6114832917817414, 'prep__numeric__poly__degree': 1, 'prep__numeric__poly__interaction_only': True}\n",
      "0.8803041246002092 0.8217262647044029 0.8470519447610361\n"
     ]
    }
   ],
   "source": [
    "preprocessor = ColumnTransformer([\n",
    "    ('numeric', num_pipe(poly=2), [\"onpromotion\", 'transactions']),\n",
    "    ('categoric', cat_pipe(encoder='onehot'), [\"holiday\"])\n",
    "])\n",
    "\n",
    "\n",
    "pipeline = Pipeline([\n",
    "    ('prep', preprocessor),\n",
    "    ('algo', XGBRegressor(n_jobs=-1, random_state=42))\n",
    "])\n",
    " \n",
    "    \n",
    "model = RandomizedSearchCV(pipeline, rsp.xgb_poly_params, cv=3, scoring='r2', n_iter=200, n_jobs=-1, verbose=1, random_state=42)\n",
    "model.fit(X_train, y_train)\n",
    "\n",
    "print(model.best_params_)\n",
    "print(model.score(X_train, y_train), model.best_score_, model.score(X_test, y_test))"
   ]
  },
  {
   "cell_type": "markdown",
   "id": "3fd138b2",
   "metadata": {},
   "source": [
    "`Ternyata dengan menambahkan poly ke dalam modelnya tidak dapat meningkatkan score model. Untuk itu, pada tahap selanjutnya saya tidak akan menggunakan polynomial feature ke dalam model karena runningnya akan lebih lama sehigga tidak efisien.`"
   ]
  },
  {
   "cell_type": "markdown",
   "id": "a71f0b2d",
   "metadata": {},
   "source": [
    "## 6.2 Hyperparameter Tuning"
   ]
  },
  {
   "cell_type": "code",
   "execution_count": 69,
   "id": "dc7a08dd",
   "metadata": {},
   "outputs": [],
   "source": [
    "from jcopml.tuning.space import Integer, Real"
   ]
  },
  {
   "cell_type": "code",
   "execution_count": 70,
   "id": "e25a9bed",
   "metadata": {},
   "outputs": [
    {
     "name": "stdout",
     "output_type": "stream",
     "text": [
      "Fitting 3 folds for each of 200 candidates, totalling 600 fits\n",
      "{'algo__colsample_bytree': 0.9185720598530367, 'algo__gamma': 5, 'algo__learning_rate': 0.08233373987853591, 'algo__max_depth': 6, 'algo__n_estimators': 118, 'algo__reg_alpha': 0.35353336315527073, 'algo__reg_lambda': 8.628009047476782, 'algo__subsample': 0.5046670031575216}\n",
      "0.9025050562296753 0.8168689733056657 0.8508683458029243\n"
     ]
    }
   ],
   "source": [
    "preprocessor = ColumnTransformer([\n",
    "    ('numeric', num_pipe(), [\"onpromotion\", 'transactions']),\n",
    "    ('categoric', cat_pipe(encoder='onehot'), [\"holiday\"])\n",
    "])\n",
    "\n",
    "\n",
    "pipeline = Pipeline([\n",
    "    ('prep', preprocessor),\n",
    "    ('algo', XGBRegressor(n_jobs=-1, random_state=42))\n",
    "])\n",
    "\n",
    "\n",
    "parameter ={'algo__max_depth': Integer(low=1, high=10),\n",
    "             'algo__learning_rate': Real(low=-3, high=0, prior='log-uniform'),\n",
    "             'algo__n_estimators': Integer(low=100, high=200),\n",
    "             'algo__subsample': Real(low=0.3, high=0.8, prior='uniform'),\n",
    "             'algo__gamma': Integer(low=1, high=10),\n",
    "             'algo__colsample_bytree': Real(low=0.1, high=1, prior='uniform'),\n",
    "             'algo__reg_alpha': Real(low=-1, high=1, prior='log-uniform'),\n",
    "             'algo__reg_lambda': Real(low=-3, high=1, prior='log-uniform')}\n",
    "\n",
    "\n",
    "model = RandomizedSearchCV(pipeline, parameter, cv=3, scoring='r2', n_iter=200, n_jobs=-1, verbose=1, random_state=42)\n",
    "model.fit(X_train, y_train)\n",
    "\n",
    "print(model.best_params_)\n",
    "print(model.score(X_train, y_train), model.best_score_, model.score(X_test, y_test))"
   ]
  },
  {
   "cell_type": "markdown",
   "id": "5a65684e",
   "metadata": {},
   "source": [
    "```\n",
    "Ternyata model terbaik yang saya dapatkan sebesar 85%\n",
    "\n",
    "Dengan parameter:\n",
    "'algo__max_depth': Integer(low=1, high=10), \n",
    "'algo__learning_rate': Real(low=-3, high=0, prior='log-uniform'), \n",
    "'algo__n_estimators': Integer(low=100, high=200), \n",
    "'algo__subsample': Real(low=0.3, high=0.8, prior='uniform'), \n",
    "'algo__gamma': Integer(low=1, high=10), \n",
    "'algo__colsample_bytree': Real(low=0.1, high=1, prior='uniform'), \n",
    "'algo__reg_alpha': Real(low=-1, high=1, prior='log-uniform'), \n",
    "'algo__reg_lambda': Real(low=-3, high=1, prior='log-uniform')} \n",
    "```"
   ]
  },
  {
   "cell_type": "markdown",
   "id": "890574d3",
   "metadata": {},
   "source": [
    "# 7. Evaluation"
   ]
  },
  {
   "cell_type": "code",
   "execution_count": 71,
   "id": "5442e15a",
   "metadata": {},
   "outputs": [
    {
     "data": {
      "text/html": [
       "<div>\n",
       "<style scoped>\n",
       "    .dataframe tbody tr th:only-of-type {\n",
       "        vertical-align: middle;\n",
       "    }\n",
       "\n",
       "    .dataframe tbody tr th {\n",
       "        vertical-align: top;\n",
       "    }\n",
       "\n",
       "    .dataframe thead th {\n",
       "        text-align: right;\n",
       "    }\n",
       "</style>\n",
       "<table border=\"1\" class=\"dataframe\">\n",
       "  <thead>\n",
       "    <tr style=\"text-align: right;\">\n",
       "      <th></th>\n",
       "      <th>onpromotion</th>\n",
       "      <th>holiday</th>\n",
       "      <th>transactions</th>\n",
       "      <th>pred</th>\n",
       "      <th>actual</th>\n",
       "      <th>error</th>\n",
       "    </tr>\n",
       "    <tr>\n",
       "      <th>date</th>\n",
       "      <th></th>\n",
       "      <th></th>\n",
       "      <th></th>\n",
       "      <th></th>\n",
       "      <th></th>\n",
       "      <th></th>\n",
       "    </tr>\n",
       "  </thead>\n",
       "  <tbody>\n",
       "    <tr>\n",
       "      <th>2013-12-17</th>\n",
       "      <td>0.0</td>\n",
       "      <td>0</td>\n",
       "      <td>94103.0</td>\n",
       "      <td>213632.390625</td>\n",
       "      <td>213594.000</td>\n",
       "      <td>38.390625</td>\n",
       "    </tr>\n",
       "    <tr>\n",
       "      <th>2015-02-25</th>\n",
       "      <td>201.0</td>\n",
       "      <td>0</td>\n",
       "      <td>75253.0</td>\n",
       "      <td>153548.171875</td>\n",
       "      <td>153616.620</td>\n",
       "      <td>68.448125</td>\n",
       "    </tr>\n",
       "    <tr>\n",
       "      <th>2014-06-17</th>\n",
       "      <td>161.0</td>\n",
       "      <td>0</td>\n",
       "      <td>74593.0</td>\n",
       "      <td>150203.171875</td>\n",
       "      <td>150291.872</td>\n",
       "      <td>88.700125</td>\n",
       "    </tr>\n",
       "    <tr>\n",
       "      <th>2016-09-14</th>\n",
       "      <td>2426.0</td>\n",
       "      <td>0</td>\n",
       "      <td>73096.0</td>\n",
       "      <td>170901.656250</td>\n",
       "      <td>170787.774</td>\n",
       "      <td>113.882250</td>\n",
       "    </tr>\n",
       "    <tr>\n",
       "      <th>2015-11-10</th>\n",
       "      <td>570.0</td>\n",
       "      <td>1</td>\n",
       "      <td>77488.0</td>\n",
       "      <td>181146.062500</td>\n",
       "      <td>180978.383</td>\n",
       "      <td>167.679500</td>\n",
       "    </tr>\n",
       "    <tr>\n",
       "      <th>2015-11-19</th>\n",
       "      <td>1130.0</td>\n",
       "      <td>0</td>\n",
       "      <td>74410.0</td>\n",
       "      <td>166337.484375</td>\n",
       "      <td>166160.784</td>\n",
       "      <td>176.700375</td>\n",
       "    </tr>\n",
       "    <tr>\n",
       "      <th>2014-11-06</th>\n",
       "      <td>242.0</td>\n",
       "      <td>1</td>\n",
       "      <td>75527.0</td>\n",
       "      <td>156941.359375</td>\n",
       "      <td>156729.929</td>\n",
       "      <td>211.430375</td>\n",
       "    </tr>\n",
       "    <tr>\n",
       "      <th>2017-06-03</th>\n",
       "      <td>2773.0</td>\n",
       "      <td>0</td>\n",
       "      <td>106965.0</td>\n",
       "      <td>366592.656250</td>\n",
       "      <td>366851.135</td>\n",
       "      <td>258.478750</td>\n",
       "    </tr>\n",
       "    <tr>\n",
       "      <th>2014-06-12</th>\n",
       "      <td>106.0</td>\n",
       "      <td>1</td>\n",
       "      <td>70928.0</td>\n",
       "      <td>131852.484375</td>\n",
       "      <td>132170.707</td>\n",
       "      <td>318.222625</td>\n",
       "    </tr>\n",
       "    <tr>\n",
       "      <th>2017-01-20</th>\n",
       "      <td>2792.0</td>\n",
       "      <td>0</td>\n",
       "      <td>78949.0</td>\n",
       "      <td>198465.328125</td>\n",
       "      <td>198853.649</td>\n",
       "      <td>388.320875</td>\n",
       "    </tr>\n",
       "  </tbody>\n",
       "</table>\n",
       "</div>"
      ],
      "text/plain": [
       "            onpromotion  holiday  transactions           pred      actual  \\\n",
       "date                                                                        \n",
       "2013-12-17          0.0        0       94103.0  213632.390625  213594.000   \n",
       "2015-02-25        201.0        0       75253.0  153548.171875  153616.620   \n",
       "2014-06-17        161.0        0       74593.0  150203.171875  150291.872   \n",
       "2016-09-14       2426.0        0       73096.0  170901.656250  170787.774   \n",
       "2015-11-10        570.0        1       77488.0  181146.062500  180978.383   \n",
       "2015-11-19       1130.0        0       74410.0  166337.484375  166160.784   \n",
       "2014-11-06        242.0        1       75527.0  156941.359375  156729.929   \n",
       "2017-06-03       2773.0        0      106965.0  366592.656250  366851.135   \n",
       "2014-06-12        106.0        1       70928.0  131852.484375  132170.707   \n",
       "2017-01-20       2792.0        0       78949.0  198465.328125  198853.649   \n",
       "\n",
       "                 error  \n",
       "date                    \n",
       "2013-12-17   38.390625  \n",
       "2015-02-25   68.448125  \n",
       "2014-06-17   88.700125  \n",
       "2016-09-14  113.882250  \n",
       "2015-11-10  167.679500  \n",
       "2015-11-19  176.700375  \n",
       "2014-11-06  211.430375  \n",
       "2017-06-03  258.478750  \n",
       "2014-06-12  318.222625  \n",
       "2017-01-20  388.320875  "
      ]
     },
     "execution_count": 71,
     "metadata": {},
     "output_type": "execute_result"
    }
   ],
   "source": [
    "df_analysis1 = X_test.copy()\n",
    "df_analysis1['pred']  = model.predict(X_test)\n",
    "df_analysis1['actual'] = y_test\n",
    "df_analysis1['error'] = np.abs(df_analysis1.pred - df_analysis1.actual)\n",
    "df_analysis1.sort_values('error').head(10)"
   ]
  },
  {
   "cell_type": "code",
   "execution_count": 72,
   "id": "240ca23d",
   "metadata": {},
   "outputs": [
    {
     "name": "stderr",
     "output_type": "stream",
     "text": [
      "C:\\Anaconda\\lib\\site-packages\\seaborn\\_decorators.py:36: FutureWarning: Pass the following variables as keyword args: x, y. From version 0.12, the only valid positional argument will be `data`, and passing other arguments without an explicit keyword will result in an error or misinterpretation.\n",
      "  warnings.warn(\n",
      "C:\\Anaconda\\lib\\site-packages\\seaborn\\_decorators.py:36: FutureWarning: Pass the following variables as keyword args: x, y. From version 0.12, the only valid positional argument will be `data`, and passing other arguments without an explicit keyword will result in an error or misinterpretation.\n",
      "  warnings.warn(\n"
     ]
    },
    {
     "data": {
      "image/png": "[encoded data removed]",
      "text/plain": [
       "<Figure size 1080x360 with 2 Axes>"
      ]
     },
     "metadata": {
      "needs_background": "light"
     },
     "output_type": "display_data"
    }
   ],
   "source": [
    "plot_residual(X_train, y_train, X_test, y_test, model)"
   ]
  },
  {
   "cell_type": "markdown",
   "id": "144f71ea",
   "metadata": {},
   "source": [
    "`Dapat dilihat, visualisasi sebaran data dari hasil prediksi sudah cukup baik yang mana datanya cukup tersebar merata. Hal ini menandakan bahwa model Machine Learning yang dibuat sudah cukup baik.`"
   ]
  },
  {
   "cell_type": "markdown",
   "id": "7a5e925c",
   "metadata": {},
   "source": [
    "# 8. Summary Result"
   ]
  },
  {
   "cell_type": "code",
   "execution_count": 73,
   "id": "a3f0f266",
   "metadata": {
    "scrolled": true
   },
   "outputs": [
    {
     "name": "stdout",
     "output_type": "stream",
     "text": [
      "R2 Train : 0.9025050562296753\n",
      "R2 Test : 0.8508683458029243\n",
      "MAE Train : 13606.183792951388\n",
      "MAE Test : 16308.476523379715\n",
      "MSE Train : 381744910.20053023\n",
      "MSE Test : 573000880.961102\n",
      "RMSE Train : 19538.29343111957\n",
      "RMSE Test : 23937.43680850358\n"
     ]
    }
   ],
   "source": [
    "y_pred_train = model.predict(X_train)\n",
    "y_pred_test = model.predict(X_test)\n",
    "\n",
    "print('R2 Train :', r2_score(y_train, y_pred_train))\n",
    "print('R2 Test :', r2_score(y_test, y_pred_test))\n",
    "print('MAE Train :', mean_absolute_error(y_train, y_pred_train))\n",
    "print('MAE Test :', mean_absolute_error(y_test, y_pred_test))\n",
    "print('MSE Train :', mean_squared_error(y_train, y_pred_train))\n",
    "print('MSE Test :', mean_squared_error(y_test, y_pred_test))\n",
    "print('RMSE Train :', mean_squared_error(y_train, y_pred_train, squared=False))\n",
    "print('RMSE Test :', mean_squared_error(y_test, y_pred_test, squared=False))"
   ]
  }
 ],
 "metadata": {
  "kernelspec": {
   "display_name": "Python 3 (ipykernel)",
   "language": "python",
   "name": "python3"
  },
  "language_info": {
   "codemirror_mode": {
    "name": "ipython",
    "version": 3
   },
   "file_extension": ".py",
   "mimetype": "text/x-python",
   "name": "python",
   "nbconvert_exporter": "python",
   "pygments_lexer": "ipython3",
   "version": "3.9.7"
  },
  "varInspector": {
   "cols": {
    "lenName": 16,
    "lenType": 16,
    "lenVar": 40
   },
   "kernels_config": {
    "python": {
     "delete_cmd_postfix": "",
     "delete_cmd_prefix": "del ",
     "library": "var_list.py",
     "varRefreshCmd": "print(var_dic_list())"
    },
    "r": {
     "delete_cmd_postfix": ") ",
     "delete_cmd_prefix": "rm(",
     "library": "var_list.r",
     "varRefreshCmd": "cat(var_dic_list()) "
    }
   },
   "types_to_exclude": [
    "module",
    "function",
    "builtin_function_or_method",
    "instance",
    "_Feature"
   ],
   "window_display": false
  }
 },
 "nbformat": 4,
 "nbformat_minor": 5
}
